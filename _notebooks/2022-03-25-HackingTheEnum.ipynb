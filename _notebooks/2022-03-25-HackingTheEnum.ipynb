{
  "cells": [
    {
      "cell_type": "markdown",
      "source": [
        "# Hacking the Enum\n",
        "\n",
        "> A tale of how to work around some of the limitations of the `Enum` class and expanding it to behave in ways that seem user-intuitive as an API\n",
        "\n",
        "- toc: true\n",
        "- badges: true\n",
        "- comments: true"
      ],
      "metadata": {
        "id": "yon27WZWUNeo"
      }
    },
    {
      "cell_type": "markdown",
      "source": [
        "## What will we talk about in this blog?\n",
        "\n",
        "This will be a straightforward story of how I went down a rabbit-hole to get `Enum` working how I wanted it to, why this came in the first place, and it's very specific use-case.\n",
        "\n",
        "Hopefully what you, the reader, get out of this is learning a bit more about the `Enum` class, how metaclasses work, and potentially finding capabilities to use this class in your own user-centric API's.\n",
        "\n"
      ],
      "metadata": {
        "id": "IA7atR-EV7NH"
      }
    },
    {
      "cell_type": "markdown",
      "source": [
        "## Okay... but what is an Enum? And why do you need to *hack it*?"
      ],
      "metadata": {
        "id": "IyIpSRmZWa5g"
      }
    },
    {
      "cell_type": "markdown",
      "source": [
        "So what is the `Enum`?\n",
        "\n",
        "Enum's are a way to write namespace classes in a very dataclass-style API and is part of the python standard library.\n",
        "\n",
        "Below is a literate example using the days of the week:"
      ],
      "metadata": {
        "id": "FXrwl_IGWynu"
      }
    },
    {
      "cell_type": "code",
      "source": [
        "import enum\n",
        "\n",
        "class DayOfWeek(enum.Enum):\n",
        "    \"An enum containing values of days of the week\"\n",
        "    MONDAY = 1\n",
        "    TUESDAY = 2\n",
        "    WEDNESDAY = 3\n",
        "    THURDAY = 4\n",
        "    FRIDAY = 5\n",
        "    SATURDAY = 6\n",
        "    SUNDAY = 7"
      ],
      "metadata": {
        "id": "Yo75uNcNV6vy"
      },
      "execution_count": 17,
      "outputs": []
    },
    {
      "cell_type": "markdown",
      "source": [
        "Now when we do `DaysOfTheWeek.{DAY}`, we return back that number we assigned as its property:"
      ],
      "metadata": {
        "id": "n7bLFtF-YGgK"
      }
    },
    {
      "cell_type": "code",
      "source": [
        "DayOfWeek.MONDAY"
      ],
      "metadata": {
        "id": "cLeoLByAYGAb",
        "outputId": "7241406d-181e-4941-9afd-bd7c0e85e8a8",
        "colab": {
          "base_uri": "https://localhost:8080/"
        }
      },
      "execution_count": 7,
      "outputs": [
        {
          "output_type": "execute_result",
          "data": {
            "text/plain": [
              "<enum 'DayOfWeek'>"
            ]
          },
          "metadata": {},
          "execution_count": 7
        }
      ]
    },
    {
      "cell_type": "markdown",
      "source": [
        "But wait, that's not `1`? That's some weird thing!\n",
        "\n",
        "Correct. `Enum`'s return their member values as a struct-like object. So we can get the value by doing:"
      ],
      "metadata": {
        "id": "ojwckcXHYQNu"
      }
    },
    {
      "cell_type": "code",
      "source": [
        "DayOfWeek.MONDAY.value"
      ],
      "metadata": {
        "id": "ShogoSVPYMXs",
        "outputId": "ebeb0ea9-25c7-415d-a955-00d7cb6d7b94",
        "colab": {
          "base_uri": "https://localhost:8080/"
        }
      },
      "execution_count": 8,
      "outputs": [
        {
          "output_type": "execute_result",
          "data": {
            "text/plain": [
              "1"
            ]
          },
          "metadata": {},
          "execution_count": 8
        }
      ]
    },
    {
      "cell_type": "markdown",
      "source": [
        "And the name of that member:"
      ],
      "metadata": {
        "id": "M25J9jDkYnRG"
      }
    },
    {
      "cell_type": "code",
      "source": [
        "DayOfWeek.MONDAY.name"
      ],
      "metadata": {
        "id": "IiDvZ9d3YW89",
        "outputId": "def95a5b-8143-452d-cd9c-5bcfb75a9026",
        "colab": {
          "base_uri": "https://localhost:8080/",
          "height": 35
        }
      },
      "execution_count": 9,
      "outputs": [
        {
          "output_type": "execute_result",
          "data": {
            "text/plain": [
              "'MONDAY'"
            ],
            "application/vnd.google.colaboratory.intrinsic+json": {
              "type": "string"
            }
          },
          "metadata": {},
          "execution_count": 9
        }
      ]
    },
    {
      "cell_type": "markdown",
      "source": [
        "As you can see it's a very quick way for us to write out some structure that contains some values in an object-oriented sense. But what are some of its limitations?\n",
        "\n",
        "Even though we know that `DayOfTheWeek.MONDAY` was set to `1`, we can't do a raw comparison in python to check this, e.g.:"
      ],
      "metadata": {
        "id": "67Lr9MXLYuhq"
      }
    },
    {
      "cell_type": "code",
      "source": [
        "DayOfWeek.MONDAY == 1"
      ],
      "metadata": {
        "id": "a28DF8fLYqMU",
        "outputId": "afb407ef-f8f4-4ee5-80fa-d718211dc1cf",
        "colab": {
          "base_uri": "https://localhost:8080/"
        }
      },
      "execution_count": 11,
      "outputs": [
        {
          "output_type": "execute_result",
          "data": {
            "text/plain": [
              "False"
            ]
          },
          "metadata": {},
          "execution_count": 11
        }
      ]
    },
    {
      "cell_type": "markdown",
      "source": [
        "Because it expects to check that `.value` attribute instead:"
      ],
      "metadata": {
        "id": "o6-HFSjrZJzk"
      }
    },
    {
      "cell_type": "code",
      "source": [
        "DayOfWeek.MONDAY.value == 1"
      ],
      "metadata": {
        "id": "rpiqt4rCZGR7",
        "outputId": "231a93dd-e709-472d-d15b-a6ca95ac2f8d",
        "colab": {
          "base_uri": "https://localhost:8080/"
        }
      },
      "execution_count": 12,
      "outputs": [
        {
          "output_type": "execute_result",
          "data": {
            "text/plain": [
              "True"
            ]
          },
          "metadata": {},
          "execution_count": 12
        }
      ]
    },
    {
      "cell_type": "markdown",
      "source": [
        "This can get quite annoyting when you want to use the `Enum` as a convience user-interface, but still want your user to be able to put in the raw values in as well, since adding one should not limit the base API. "
      ],
      "metadata": {
        "id": "dfb2qmBZZN5W"
      }
    },
    {
      "cell_type": "markdown",
      "source": [
        "There's also the off-chance that you may wish to have your `Enum` options be documentable. \n",
        "\n",
        "Ideally this shouldn't be the case too often, as typically the values in an enum should be quick representations of a generic item (such as `SUNDAY` and `1`, or `TORCH` and `\"torch\"`). \n",
        "\n",
        "But there may be an API where this could benefit from having explicit documentation for what each special `Enum` convention means.\n",
        "\n",
        "In the next two sections, we'll try and figure out how this can be done"
      ],
      "metadata": {
        "id": "TW63McA3Zxrj"
      }
    },
    {
      "cell_type": "markdown",
      "source": [
        "## Having `Enum` return the raw values, and the idea of metaclasses"
      ],
      "metadata": {
        "id": "8BeL-iY5aYXM"
      }
    },
    {
      "cell_type": "markdown",
      "source": [
        "What is a metaclass? Metaclasses can generally be thought of as inner classes, that change some innate behavior in the superclass *before* that superclass is compiled.\n",
        "\n",
        "Uhhh... what?\n",
        "\n",
        "A better way to think about it, is there are certain functionalities every class does in Python in a factory-way, that you don't need to think about or implement when writing a `class`, such as a `class`'s `__new__` method, which is automatically called when you run `__init__`, and it handles creating of a new object for you. \n",
        "\n",
        "Okay so... back to the `Enum` then please? How does this all connect?\n",
        "\n",
        "The `Enum` class has one of these core functionalities called `__getattribute__`. It's what the `Enum` uses to get our `MONDAY` enum we saw earlier:"
      ],
      "metadata": {
        "id": "OTRnKIh3bh_p"
      }
    },
    {
      "cell_type": "code",
      "source": [
        "DayOfWeek.__getattribute__(DayOfWeek, \"MONDAY\")"
      ],
      "metadata": {
        "id": "Lmrdb3pRdh-n",
        "outputId": "3384ea2d-cdbb-49c7-ffbf-22ada078e346",
        "colab": {
          "base_uri": "https://localhost:8080/"
        }
      },
      "execution_count": 18,
      "outputs": [
        {
          "output_type": "execute_result",
          "data": {
            "text/plain": [
              "<DayOfWeek.MONDAY: 1>"
            ]
          },
          "metadata": {},
          "execution_count": 18
        }
      ]
    },
    {
      "cell_type": "markdown",
      "source": [
        "But we don't ever have to write that to get the value of `MONDAY`, we just call the attribute directly:"
      ],
      "metadata": {
        "id": "o3WkUQyndnOa"
      }
    },
    {
      "cell_type": "code",
      "source": [
        "DayOfWeek.MONDAY"
      ],
      "metadata": {
        "id": "bTu3RrxOdsVZ",
        "outputId": "b606e83a-7aa4-416a-ff00-8cefcbde4336",
        "colab": {
          "base_uri": "https://localhost:8080/"
        }
      },
      "execution_count": 19,
      "outputs": [
        {
          "output_type": "execute_result",
          "data": {
            "text/plain": [
              "<DayOfWeek.MONDAY: 1>"
            ]
          },
          "metadata": {},
          "execution_count": 19
        }
      ]
    },
    {
      "cell_type": "markdown",
      "source": [
        "To override this, we *must* do so in a metaclass, as this `__getattribute__` must be set and used *before* a class is compiled.\n",
        "\n",
        "But what happens if we don't?\n",
        "\n",
        "Let's first write what we would think our potential \"raw value return\" `__getattribute__` function should look like.\n",
        "\n"
      ],
      "metadata": {
        "id": "leG1CJOUdtiW"
      }
    },
    {
      "cell_type": "markdown",
      "source": [
        "It should take in a `name`, and then get the attribute in the same way we did just above, before finally getting the `value.value`.\n",
        "\n",
        "> Note: When `Enum`'s are returned, they are of type `Enum` themselves."
      ],
      "metadata": {
        "id": "iJi_sDrEelMH"
      }
    },
    {
      "cell_type": "code",
      "source": [
        "def __getattribute__(cls, name):\n",
        "    value = cls.__getattribute__(name)\n",
        "    if isinstance(value, cls):\n",
        "        value = value.value\n",
        "    return value"
      ],
      "metadata": {
        "id": "n98hiq8fe1Rc"
      },
      "execution_count": 25,
      "outputs": []
    },
    {
      "cell_type": "markdown",
      "source": [
        "That seems like that should work right? First we grab the value from `cls`, then check if it's an instance of our `Enum`, and if so then go dig and get it's `.value`.\n",
        "\n",
        "So, what happens if we throw this into our `DayOfWeek`?"
      ],
      "metadata": {
        "id": "TBmyezN1e_N7"
      }
    },
    {
      "cell_type": "code",
      "source": [
        "class DayOfWeek(enum.Enum):\n",
        "    \"An enum containing values of days of the week\"\n",
        "    def __getattribute__(cls, name):\n",
        "        value = cls.__getattribute__(name)\n",
        "        if isinstance(value, cls):\n",
        "            value = value.value\n",
        "        return value\n",
        "    MONDAY = 1\n",
        "    TUESDAY = 2\n",
        "    WEDNESDAY = 3\n",
        "    THURDAY = 4\n",
        "    FRIDAY = 5\n",
        "    SATURDAY = 6\n",
        "    SUNDAY = 7"
      ],
      "metadata": {
        "id": "9lFQzCdpd0Ru",
        "outputId": "d25e6f2e-623c-4c63-f94e-d347d017adae",
        "colab": {
          "base_uri": "https://localhost:8080/",
          "height": 414
        }
      },
      "execution_count": 26,
      "outputs": [
        {
          "output_type": "error",
          "ename": "RecursionError",
          "evalue": "ignored",
          "traceback": [
            "\u001b[0;31m---------------------------------------------------------------------------\u001b[0m",
            "\u001b[0;31mRecursionError\u001b[0m                            Traceback (most recent call last)",
            "\u001b[0;32m<ipython-input-26-307648383af1>\u001b[0m in \u001b[0;36m<module>\u001b[0;34m()\u001b[0m\n\u001b[0;32m----> 1\u001b[0;31m \u001b[0;32mclass\u001b[0m \u001b[0mDayOfWeek\u001b[0m\u001b[0;34m(\u001b[0m\u001b[0menum\u001b[0m\u001b[0;34m.\u001b[0m\u001b[0mEnum\u001b[0m\u001b[0;34m)\u001b[0m\u001b[0;34m:\u001b[0m\u001b[0;34m\u001b[0m\u001b[0;34m\u001b[0m\u001b[0m\n\u001b[0m\u001b[1;32m      2\u001b[0m     \u001b[0;34m\"An enum containing values of days of the week\"\u001b[0m\u001b[0;34m\u001b[0m\u001b[0;34m\u001b[0m\u001b[0m\n\u001b[1;32m      3\u001b[0m     \u001b[0;32mdef\u001b[0m \u001b[0m__getattribute__\u001b[0m\u001b[0;34m(\u001b[0m\u001b[0mcls\u001b[0m\u001b[0;34m,\u001b[0m \u001b[0mname\u001b[0m\u001b[0;34m)\u001b[0m\u001b[0;34m:\u001b[0m\u001b[0;34m\u001b[0m\u001b[0;34m\u001b[0m\u001b[0m\n\u001b[1;32m      4\u001b[0m         \u001b[0mvalue\u001b[0m \u001b[0;34m=\u001b[0m \u001b[0mcls\u001b[0m\u001b[0;34m.\u001b[0m\u001b[0m__getattribute__\u001b[0m\u001b[0;34m(\u001b[0m\u001b[0mname\u001b[0m\u001b[0;34m)\u001b[0m\u001b[0;34m\u001b[0m\u001b[0;34m\u001b[0m\u001b[0m\n\u001b[1;32m      5\u001b[0m         \u001b[0;32mif\u001b[0m \u001b[0misinstance\u001b[0m\u001b[0;34m(\u001b[0m\u001b[0mvalue\u001b[0m\u001b[0;34m,\u001b[0m \u001b[0mcls\u001b[0m\u001b[0;34m)\u001b[0m\u001b[0;34m:\u001b[0m\u001b[0;34m\u001b[0m\u001b[0;34m\u001b[0m\u001b[0m\n",
            "\u001b[0;32m/usr/lib/python3.7/enum.py\u001b[0m in \u001b[0;36m__new__\u001b[0;34m(metacls, cls, bases, classdict)\u001b[0m\n\u001b[1;32m    218\u001b[0m             \u001b[0;32mif\u001b[0m \u001b[0;32mnot\u001b[0m \u001b[0muse_args\u001b[0m\u001b[0;34m:\u001b[0m\u001b[0;34m\u001b[0m\u001b[0;34m\u001b[0m\u001b[0m\n\u001b[1;32m    219\u001b[0m                 \u001b[0menum_member\u001b[0m \u001b[0;34m=\u001b[0m \u001b[0m__new__\u001b[0m\u001b[0;34m(\u001b[0m\u001b[0menum_class\u001b[0m\u001b[0;34m)\u001b[0m\u001b[0;34m\u001b[0m\u001b[0;34m\u001b[0m\u001b[0m\n\u001b[0;32m--> 220\u001b[0;31m                 \u001b[0;32mif\u001b[0m \u001b[0;32mnot\u001b[0m \u001b[0mhasattr\u001b[0m\u001b[0;34m(\u001b[0m\u001b[0menum_member\u001b[0m\u001b[0;34m,\u001b[0m \u001b[0;34m'_value_'\u001b[0m\u001b[0;34m)\u001b[0m\u001b[0;34m:\u001b[0m\u001b[0;34m\u001b[0m\u001b[0;34m\u001b[0m\u001b[0m\n\u001b[0m\u001b[1;32m    221\u001b[0m                     \u001b[0menum_member\u001b[0m\u001b[0;34m.\u001b[0m\u001b[0m_value_\u001b[0m \u001b[0;34m=\u001b[0m \u001b[0mvalue\u001b[0m\u001b[0;34m\u001b[0m\u001b[0;34m\u001b[0m\u001b[0m\n\u001b[1;32m    222\u001b[0m             \u001b[0;32melse\u001b[0m\u001b[0;34m:\u001b[0m\u001b[0;34m\u001b[0m\u001b[0;34m\u001b[0m\u001b[0m\n",
            "\u001b[0;32m<ipython-input-26-307648383af1>\u001b[0m in \u001b[0;36m__getattribute__\u001b[0;34m(cls, name)\u001b[0m\n\u001b[1;32m      2\u001b[0m     \u001b[0;34m\"An enum containing values of days of the week\"\u001b[0m\u001b[0;34m\u001b[0m\u001b[0;34m\u001b[0m\u001b[0m\n\u001b[1;32m      3\u001b[0m     \u001b[0;32mdef\u001b[0m \u001b[0m__getattribute__\u001b[0m\u001b[0;34m(\u001b[0m\u001b[0mcls\u001b[0m\u001b[0;34m,\u001b[0m \u001b[0mname\u001b[0m\u001b[0;34m)\u001b[0m\u001b[0;34m:\u001b[0m\u001b[0;34m\u001b[0m\u001b[0;34m\u001b[0m\u001b[0m\n\u001b[0;32m----> 4\u001b[0;31m         \u001b[0mvalue\u001b[0m \u001b[0;34m=\u001b[0m \u001b[0mcls\u001b[0m\u001b[0;34m.\u001b[0m\u001b[0m__getattribute__\u001b[0m\u001b[0;34m(\u001b[0m\u001b[0mname\u001b[0m\u001b[0;34m)\u001b[0m\u001b[0;34m\u001b[0m\u001b[0;34m\u001b[0m\u001b[0m\n\u001b[0m\u001b[1;32m      5\u001b[0m         \u001b[0;32mif\u001b[0m \u001b[0misinstance\u001b[0m\u001b[0;34m(\u001b[0m\u001b[0mvalue\u001b[0m\u001b[0;34m,\u001b[0m \u001b[0mcls\u001b[0m\u001b[0;34m)\u001b[0m\u001b[0;34m:\u001b[0m\u001b[0;34m\u001b[0m\u001b[0;34m\u001b[0m\u001b[0m\n\u001b[1;32m      6\u001b[0m             \u001b[0mvalue\u001b[0m \u001b[0;34m=\u001b[0m \u001b[0mvalue\u001b[0m\u001b[0;34m.\u001b[0m\u001b[0mvalue\u001b[0m\u001b[0;34m\u001b[0m\u001b[0;34m\u001b[0m\u001b[0m\n",
            "... last 1 frames repeated, from the frame below ...\n",
            "\u001b[0;32m<ipython-input-26-307648383af1>\u001b[0m in \u001b[0;36m__getattribute__\u001b[0;34m(cls, name)\u001b[0m\n\u001b[1;32m      2\u001b[0m     \u001b[0;34m\"An enum containing values of days of the week\"\u001b[0m\u001b[0;34m\u001b[0m\u001b[0;34m\u001b[0m\u001b[0m\n\u001b[1;32m      3\u001b[0m     \u001b[0;32mdef\u001b[0m \u001b[0m__getattribute__\u001b[0m\u001b[0;34m(\u001b[0m\u001b[0mcls\u001b[0m\u001b[0;34m,\u001b[0m \u001b[0mname\u001b[0m\u001b[0;34m)\u001b[0m\u001b[0;34m:\u001b[0m\u001b[0;34m\u001b[0m\u001b[0;34m\u001b[0m\u001b[0m\n\u001b[0;32m----> 4\u001b[0;31m         \u001b[0mvalue\u001b[0m \u001b[0;34m=\u001b[0m \u001b[0mcls\u001b[0m\u001b[0;34m.\u001b[0m\u001b[0m__getattribute__\u001b[0m\u001b[0;34m(\u001b[0m\u001b[0mname\u001b[0m\u001b[0;34m)\u001b[0m\u001b[0;34m\u001b[0m\u001b[0;34m\u001b[0m\u001b[0m\n\u001b[0m\u001b[1;32m      5\u001b[0m         \u001b[0;32mif\u001b[0m \u001b[0misinstance\u001b[0m\u001b[0;34m(\u001b[0m\u001b[0mvalue\u001b[0m\u001b[0;34m,\u001b[0m \u001b[0mcls\u001b[0m\u001b[0;34m)\u001b[0m\u001b[0;34m:\u001b[0m\u001b[0;34m\u001b[0m\u001b[0;34m\u001b[0m\u001b[0m\n\u001b[1;32m      6\u001b[0m             \u001b[0mvalue\u001b[0m \u001b[0;34m=\u001b[0m \u001b[0mvalue\u001b[0m\u001b[0;34m.\u001b[0m\u001b[0mvalue\u001b[0m\u001b[0;34m\u001b[0m\u001b[0;34m\u001b[0m\u001b[0m\n",
            "\u001b[0;31mRecursionError\u001b[0m: maximum recursion depth exceeded"
          ]
        }
      ]
    },
    {
      "cell_type": "markdown",
      "source": [
        "Uh oh! A recursion error!\n",
        "\n",
        "This is because it's fighting with its original implementation when first compiling, and as a result hit a continuous loop. \n",
        "\n",
        "This goes back to that note I made earlier, about how there are certain functions loaded *before* a class is compiled. \n",
        "\n",
        "So, how do we bypass this? Through a metaclass.\n",
        "\n",
        "Enum has a specific metaclass, designed to be utilized for overriding these functions, the `EnumMeta`:"
      ],
      "metadata": {
        "id": "Uonxh513fKPE"
      }
    },
    {
      "cell_type": "code",
      "source": [
        "class DirectValueMeta(enum.EnumMeta):\n",
        "    \"Metaclass that allows for directly getting an enum attribute\"\n",
        "    def __getattribute__(cls, name):\n",
        "        value = super().__getattribute__(name)\n",
        "        if isinstance(value, cls):\n",
        "            value = value.value\n",
        "        return value"
      ],
      "metadata": {
        "id": "mMTDxxZRZNSX"
      },
      "execution_count": 178,
      "outputs": []
    },
    {
      "cell_type": "markdown",
      "source": [
        "Since we're using a metaclass now, we can replace `cls` with `super()`, and now the two are seperated. \n",
        "\n",
        "From here the class will then know to return `value`, and all will be as it should.\n",
        "\n",
        "To specify metaclasses in python, during any class declaration use the `metaclass=` notation and it will be applied"
      ],
      "metadata": {
        "id": "iSsRX_URftdw"
      }
    },
    {
      "cell_type": "code",
      "source": [
        "class DayOfWeek(enum.Enum, metaclass=DirectValueMeta):\n",
        "    \"An enum containing values of days of the week\"\n",
        "    MONDAY = 1\n",
        "    TUESDAY = 2\n",
        "    WEDNESDAY = 3\n",
        "    THURDAY = 4\n",
        "    FRIDAY = 5\n",
        "    SATURDAY = 6\n",
        "    SUNDAY = 7"
      ],
      "metadata": {
        "id": "TI5LFkzBacS7"
      },
      "execution_count": 179,
      "outputs": []
    },
    {
      "cell_type": "markdown",
      "source": [
        "What winds up happening however is now the type of `DayOfWeek` has changed, since it's underlying implementation is one of `DirectValueMeta`:"
      ],
      "metadata": {
        "id": "yYuXryIWgW_U"
      }
    },
    {
      "cell_type": "code",
      "source": [
        "type(DayOfWeek)"
      ],
      "metadata": {
        "id": "X24OwV-ggb3D",
        "outputId": "9365bf90-ae6d-44b9-c11a-c9467cad8649",
        "colab": {
          "base_uri": "https://localhost:8080/"
        }
      },
      "execution_count": 180,
      "outputs": [
        {
          "output_type": "execute_result",
          "data": {
            "text/plain": [
              "__main__.DirectValueMeta"
            ]
          },
          "metadata": {},
          "execution_count": 180
        }
      ]
    },
    {
      "cell_type": "markdown",
      "source": [
        "So, something to keep in mind when testing out and watching for typings (such as `isinstance`)"
      ],
      "metadata": {
        "id": "z7Yi8UWlgeqm"
      }
    },
    {
      "cell_type": "code",
      "source": [
        "isinstance(DayOfWeek, enum.Enum)"
      ],
      "metadata": {
        "id": "2O2vgwLJgj_8",
        "outputId": "3c7a508c-332c-457d-b3a5-f6170dceff82",
        "colab": {
          "base_uri": "https://localhost:8080/"
        }
      },
      "execution_count": 181,
      "outputs": [
        {
          "output_type": "execute_result",
          "data": {
            "text/plain": [
              "False"
            ]
          },
          "metadata": {},
          "execution_count": 181
        }
      ]
    },
    {
      "cell_type": "markdown",
      "source": [
        "> Note: You can get the original class types of an object with a metadata implementation by looking inside of `class.__bases__`"
      ],
      "metadata": {
        "id": "wVFyny5xg0V0"
      }
    },
    {
      "cell_type": "code",
      "source": [
        "DayOfWeek.__bases__"
      ],
      "metadata": {
        "id": "9BOOXL-Qgm3b",
        "outputId": "8c142121-6ee4-4dc9-c7f0-caba2369e400",
        "colab": {
          "base_uri": "https://localhost:8080/"
        }
      },
      "execution_count": 182,
      "outputs": [
        {
          "output_type": "execute_result",
          "data": {
            "text/plain": [
              "(<enum 'Enum'>,)"
            ]
          },
          "metadata": {},
          "execution_count": 182
        }
      ]
    },
    {
      "cell_type": "markdown",
      "source": [
        "Alright so... did it work?"
      ],
      "metadata": {
        "id": "nEqIVQrzhEM9"
      }
    },
    {
      "cell_type": "code",
      "source": [
        "DayOfWeek.MONDAY"
      ],
      "metadata": {
        "id": "Aouydb10ai83",
        "outputId": "0efa667e-be89-4731-e76b-ba4680fb33d8",
        "colab": {
          "base_uri": "https://localhost:8080/"
        }
      },
      "execution_count": 183,
      "outputs": [
        {
          "output_type": "execute_result",
          "data": {
            "text/plain": [
              "1"
            ]
          },
          "metadata": {},
          "execution_count": 183
        }
      ]
    },
    {
      "cell_type": "markdown",
      "source": [
        "Yes it did! And since we overrode how `__getattribute__` functions, we can also directly do comparisons between the enum and a non-enum, as though they are the same:"
      ],
      "metadata": {
        "id": "z5EwAumghG0k"
      }
    },
    {
      "cell_type": "code",
      "source": [
        "DayOfWeek.MONDAY == 1"
      ],
      "metadata": {
        "id": "1scyRGuFaj5V",
        "outputId": "ec7b178a-53d2-4e5b-e0fe-5d69cfc0f4c3",
        "colab": {
          "base_uri": "https://localhost:8080/"
        }
      },
      "execution_count": 184,
      "outputs": [
        {
          "output_type": "execute_result",
          "data": {
            "text/plain": [
              "True"
            ]
          },
          "metadata": {},
          "execution_count": 184
        }
      ]
    },
    {
      "cell_type": "markdown",
      "source": [
        "Awesome! Now let's talk about that second idea"
      ],
      "metadata": {
        "id": "lxhe9Ti4hyDz"
      }
    },
    {
      "cell_type": "markdown",
      "source": [
        "## Documenting members inside of an Enum\n",
        "\n",
        "This idea came to me during a feverdream at 2am, when I was considering how fastai's `Callback` events are documented.\n",
        "\n",
        "Specifically, they live inside of a namespace-like object that lists every single possible event inside of their training loop, such as `before_epoch` (before an epoch begins) and `after_train` (after the training phase was completed).\n",
        "\n",
        "This namespace object was created by using the `mk_class` function and passing in a list of possible events. From there it stores it as a namespace class that can have a docstring in just a few short lines of code:\n",
        "\n",
        "```python\n",
        "_attrs = L([\"attrA\", \"attrB\", \"attrC\"])\n",
        "\n",
        "mk_class(\"SomeClass\", **_attrs.map_dict(), \n",
        "  doc=\"All possible attrs as attributes to get tab-completion and typo-proofing\")\n",
        "```"
      ],
      "metadata": {
        "id": "qtGx52_-h0ec"
      }
    },
    {
      "cell_type": "markdown",
      "source": [
        "This then creates `SomeClass` that let's us perform `SomeClass.attrA`, and it will return `\"attrA\"`"
      ],
      "metadata": {
        "id": "BRRgoaQfjC2g"
      }
    },
    {
      "cell_type": "markdown",
      "source": [
        "\n",
        "I wanted to complete three goals with my namespace-hacking endevor here:\n",
        "\n",
        "- It should be as simple to create as the original implementation was, meaning I should only have to write `\"attrA\"` *once*\n",
        "\n",
        "- It should be assumed that every attribute should be documented, but they can contain a value instead of just `\"attrA\"` (such as in our `DayOfWeek` example where `SUNDAY` has a value of 7)\n",
        "\n",
        "- The `repr` should then be changed to include the added docstring, if present. \n",
        "\n",
        "As a result, I should be able to perform `DayOfWeek.SUNDAY?` or `help(DayOfWeek.SUNDAY)` and get back our documentation.\n",
        "\n",
        "> Note: A defined limitation is we assume that every enum **must** either have a value of itself in lowercase form, or a specified value if it is joined with a docstring. We cannot just have an undocumented value that is special"
      ],
      "metadata": {
        "id": "TqS_MrtsiqeS"
      }
    },
    {
      "cell_type": "markdown",
      "source": [
        "Before we begin, let's write a clear example of how this API should look, though it cannot be ran of course:\n",
        "\n",
        "```python\n",
        "class Weekday(SomeInheritedEnumClass):\n",
        "    \"The days of the week\"\n",
        "    MONDAY = 1, \"The first day of the week\"\n",
        "    TUESDAY = \"The second day of the week\"\n",
        "    WEDNESDAY = _\n",
        "    THURSDAY = 4, \"The fourth day of the week\"\n",
        "    FRIDAY = 5, \"The fifth day of the week\"\n",
        "    SATURDAY = 6, \"The sixth day of the week\"\n",
        "    SUNDAY = \"The seventh day of the week\"\n",
        "```"
      ],
      "metadata": {
        "id": "oOn2hrsrkGRB"
      }
    },
    {
      "cell_type": "markdown",
      "source": [
        "What are the special cases here?\n",
        "\n",
        "- When checking `MONDAY`, it should have a value of `1` and a docstring of `\"The first day of the week\"`\n",
        "- When checking `TUESDAY` it should have a value of `\"tuesday\"` and a docstring of `\"The second day of the week\"\n",
        "- When checking `WEDNESDAY`, it should have *no* documentation, and a value of `\"wednesday\"`"
      ],
      "metadata": {
        "id": "jtPnBjmYlAIH"
      }
    },
    {
      "cell_type": "markdown",
      "source": [
        "Let's break this down step-by-step. First, let's try and write an implementation that sets `Enum.value` to be the first value we passed in, as by default it will currently set both items as the value:"
      ],
      "metadata": {
        "id": "OmZCW7n_lnAS"
      }
    },
    {
      "cell_type": "code",
      "source": [
        "class SmallEnum(enum.Enum, metaclass=DirectValueMeta):\n",
        "    \"An enum containing values of days of the week\"\n",
        "    SOMEVALUE = 1, \"Some docstring\""
      ],
      "metadata": {
        "id": "ON7P7EOBkpDK"
      },
      "execution_count": 185,
      "outputs": []
    },
    {
      "cell_type": "code",
      "source": [
        "SmallEnum.SOMEVALUE"
      ],
      "metadata": {
        "id": "LYbvjcw7l3MT",
        "outputId": "69c31bfe-6772-4e49-84b6-a5a23241c551",
        "colab": {
          "base_uri": "https://localhost:8080/"
        }
      },
      "execution_count": 186,
      "outputs": [
        {
          "output_type": "execute_result",
          "data": {
            "text/plain": [
              "(1, 'Some docstring')"
            ]
          },
          "metadata": {},
          "execution_count": 186
        }
      ]
    },
    {
      "cell_type": "markdown",
      "source": [
        "The Enum [documentation](https://docs.python.org/3/library/enum.html#when-to-use-new-vs-init) says that when we want to override the returned value of an enum, we should override the `__new__` function, create a new object, and then set the `_value_`, which is where our `.value` attribute really gets set. \n",
        "\n",
        "Their example is extremely straightforward, so we can adapt it easily:\n",
        "```python\n",
        ">>> class Coordinate(bytes, Enum):\n",
        "...     \"\"\"\n",
        "...     Coordinate with binary codes that can be indexed by the int code.\n",
        "...     \"\"\"\n",
        "...     def __new__(cls, value, label, unit):\n",
        "...         obj = bytes.__new__(cls, [value])\n",
        "...         obj._value_ = value\n",
        "...         obj.label = label\n",
        "...         obj.unit = unit\n",
        "...         return obj\n",
        "...     PX = (0, 'P.X', 'km')\n",
        "...     PY = (1, 'P.Y', 'km')\n",
        "...     VX = (2, 'V.X', 'km/s')\n",
        "...     VY = (3, 'V.Y', 'km/s')\n",
        "```"
      ],
      "metadata": {
        "id": "O-OgaH8bl7WO"
      }
    },
    {
      "cell_type": "markdown",
      "source": [
        "> Note: I am choosing to use inheritence and a new `Enum` type rather than keeping the `__new__` implementation in the same class, due to the fact I want this to be a reusable capability"
      ],
      "metadata": {
        "id": "IHT22VA_mjCb"
      }
    },
    {
      "cell_type": "markdown",
      "source": [
        "For naming conventions, we'll call this a `DocumentedEnum`, or an enum with documentation!\n",
        "\n",
        "And to keep our first iteration simple, we should assume that we will *always* pass in tuples of `(value, docstring)`. While this won't be what the final product will look like, it's a great starting point"
      ],
      "metadata": {
        "id": "qk45UbzAmuJW"
      }
    },
    {
      "cell_type": "markdown",
      "source": [
        "> Note: We won't be using our metaclass here for a myriad of reasons. The main reason is the interaction between the docstring, the metaclass, and the value we want isn't meant to be toyed with. So as a result we'll keep this as a base `Enum`"
      ],
      "metadata": {
        "id": "_kg_O55P39Vv"
      }
    },
    {
      "cell_type": "code",
      "source": [
        "class DocumentedEnum(enum.Enum):\n",
        "    \"\"\"\n",
        "    An `Enum` capabile of having its members have docstrings\n",
        "\n",
        "    Should be passed in the form of:\n",
        "      value, docstring\n",
        "\n",
        "    Based on https://stackoverflow.com/questions/19330460/how-do-i-put-docstrings-on-enums\n",
        "    \"\"\"\n",
        "\n",
        "    def __new__(cls, *args):\n",
        "        obj = object.__new__(cls)\n",
        "        obj._value_ = args[0] # Assign `_value_` to the first argument\n",
        "        return obj\n",
        "\n",
        "    def __init__(self, *args):\n",
        "        \"\"\"\n",
        "        Creates a generic enumeration with potential assigning of a member docstring\n",
        "\n",
        "        Should be passed in the form of:\n",
        "          value, docstring\n",
        "        Or:\n",
        "          docstring\n",
        "        \"\"\"\n",
        "        if len(args) == 2 and isinstance(args[-1], str):\n",
        "            self.__doc__ = args[-1]"
      ],
      "metadata": {
        "id": "etnXYki_l4YO"
      },
      "execution_count": 297,
      "outputs": []
    },
    {
      "cell_type": "markdown",
      "source": [
        "Let's break down what we've done here.\n",
        "\n",
        "First, `__new__`:\n",
        "\n",
        "* Similar to the example, we create a new generic object. Then we assign the first value in `args` to be the value.\n",
        "\n",
        "* We keep the parameter unspecified (`*args`) so we can pass in as many parameters as needed, be it either one (for just the docstring) or two (value and a docstring). Documenting this behavior should be done in `__init__`, as we've done here.\n",
        "\n",
        "Next that `__init__`:\n",
        "* `init` right now is very simple, we check if the last argument is a string, and if so set that to the docstring. This type-check is just to make sure we can set our docstring as a valid *string*.\n",
        "* We could likely change this implementation to better guarded, such as checking if it's a string and the length of `args` matches what we should expect. The final implementaiton will reflect i|t. "
      ],
      "metadata": {
        "id": "70lU3OYQoAhB"
      }
    },
    {
      "cell_type": "markdown",
      "source": [
        "Now let's see it in action, with our `Weekday` proposal earlier:"
      ],
      "metadata": {
        "id": "X8iPgpqUpIET"
      }
    },
    {
      "cell_type": "code",
      "source": [
        "class Weekday(DocumentedEnum):\n",
        "    \"The days of the week\"\n",
        "    MONDAY = 1, \"The first day of the week\"\n",
        "    THURSDAY = 4, \"The fourth day of the week\"\n",
        "    FRIDAY = 5, \"The fifth day of the week\"\n",
        "    SATURDAY = 6, \"The sixth day of the week\""
      ],
      "metadata": {
        "id": "eUTMeRsgoAGh"
      },
      "execution_count": 298,
      "outputs": []
    },
    {
      "cell_type": "markdown",
      "source": [
        "Let's see how this looks so far, by checking Monday, Tuesday, and Wednesday:"
      ],
      "metadata": {
        "id": "X4loQ2pdpx81"
      }
    },
    {
      "cell_type": "code",
      "source": [
        "Weekday.MONDAY, Weekday.MONDAY.__doc__"
      ],
      "metadata": {
        "id": "-ZWIm4Sz0ULJ",
        "outputId": "ee53421c-9d06-4a1f-a57e-6ce230ecf63d",
        "colab": {
          "base_uri": "https://localhost:8080/"
        }
      },
      "execution_count": 301,
      "outputs": [
        {
          "output_type": "execute_result",
          "data": {
            "text/plain": [
              "(<Weekday.MONDAY: 1>, 'The first day of the week')"
            ]
          },
          "metadata": {},
          "execution_count": 301
        }
      ]
    },
    {
      "cell_type": "markdown",
      "source": [
        "This looks good! That's what we expected.\n",
        "\n",
        "But wait, I can't do our comparisons anymore, can I?\n",
        "\n",
        "That is indeed correct. So, what can we do? \n",
        "\n",
        "We can instead implement our own custom `__eq__`. It should be *very* simple, checking first if we can perform the regular `eq` (e.g. they're of the same type), and if not then we check their `.value`:"
      ],
      "metadata": {
        "id": "FQjuO3CYp1Vu"
      }
    },
    {
      "cell_type": "code",
      "source": [
        "class DocumentedEnum(enum.Enum):\n",
        "    \"\"\"\n",
        "    An `Enum` capabile of having its members have docstrings\n",
        "\n",
        "    Should be passed in the form of:\n",
        "      value, docstring\n",
        "\n",
        "    Based on https://stackoverflow.com/questions/19330460/how-do-i-put-docstrings-on-enums\n",
        "    \"\"\"\n",
        "\n",
        "    def __new__(cls, *args):\n",
        "        obj = object.__new__(cls)\n",
        "        obj._value_ = args[0] # Assign `_value_` to the first argument\n",
        "        return obj\n",
        "\n",
        "    def __eq__(self, obj):\n",
        "        if type(self) == type(obj): \n",
        "            return super().__eq__(obj)\n",
        "        return self.value == obj\n",
        "\n",
        "    def __ne__(self, obj):\n",
        "        if type(self) == type(obj):\n",
        "            return super().__ne__(obj)\n",
        "        return self.value != obj\n",
        "\n",
        "    def __init__(self, *args):\n",
        "        \"\"\"\n",
        "        Creates a generic enumeration with potential assigning of a member docstring\n",
        "\n",
        "        Should be passed in the form of:\n",
        "          value, docstring\n",
        "        Or:\n",
        "          docstring\n",
        "        \"\"\"\n",
        "        if len(args) == 2 and isinstance(args[-1], str):\n",
        "            self.__doc__ = args[-1]"
      ],
      "metadata": {
        "id": "09ZJx78PptLE"
      },
      "execution_count": 325,
      "outputs": []
    },
    {
      "cell_type": "code",
      "source": [
        "class Weekday(DocumentedEnum):\n",
        "    \"The days of the week\"\n",
        "    MONDAY = 1, \"The first day of the week\"\n",
        "    THURSDAY = 4, \"The fourth day of the week\"\n",
        "    FRIDAY = 5, \"The fifth day of the week\"\n",
        "    SATURDAY = 6, \"The sixth day of the week\""
      ],
      "metadata": {
        "id": "SJDxEge2pvJw"
      },
      "execution_count": 326,
      "outputs": []
    },
    {
      "cell_type": "code",
      "source": [
        "Weekday.MONDAY == Weekday.MONDAY"
      ],
      "metadata": {
        "id": "g9Twmlcrpwnd",
        "outputId": "e8642ce2-0209-4cb4-c779-e0e3fdbe83f7",
        "colab": {
          "base_uri": "https://localhost:8080/"
        }
      },
      "execution_count": 327,
      "outputs": [
        {
          "output_type": "execute_result",
          "data": {
            "text/plain": [
              "True"
            ]
          },
          "metadata": {},
          "execution_count": 327
        }
      ]
    },
    {
      "cell_type": "code",
      "source": [
        "Weekday.MONDAY == 1"
      ],
      "metadata": {
        "id": "U6GpXeoc5k0W",
        "outputId": "b4ca9ef6-7eea-4c12-b1c1-0261b09bc832",
        "colab": {
          "base_uri": "https://localhost:8080/"
        }
      },
      "execution_count": 328,
      "outputs": [
        {
          "output_type": "execute_result",
          "data": {
            "text/plain": [
              "True"
            ]
          },
          "metadata": {},
          "execution_count": 328
        }
      ]
    },
    {
      "cell_type": "code",
      "source": [
        "Weekday.MONDAY != 1"
      ],
      "metadata": {
        "id": "qy_HiCF56Uy3",
        "outputId": "78ccd345-0c19-4b35-8e40-8276df95be68",
        "colab": {
          "base_uri": "https://localhost:8080/"
        }
      },
      "execution_count": 329,
      "outputs": [
        {
          "output_type": "execute_result",
          "data": {
            "text/plain": [
              "False"
            ]
          },
          "metadata": {},
          "execution_count": 329
        }
      ]
    },
    {
      "cell_type": "markdown",
      "source": [
        "Great! While we may have lost the ability to just pull `1` when doing `Weekday.MONDAY`, we can still use it logically when doing `==` or `!=`, so we haven't lost that functionality"
      ],
      "metadata": {
        "id": "Q4TpNsK26GmC"
      }
    },
    {
      "cell_type": "markdown",
      "source": [
        "## Reflection\n",
        "\n",
        "Alright, so we just implemented a *lot*. Is it worth it?\n",
        "\n",
        "Let's analyze each implementation, and it's costs, benefits, and potential use case:\n",
        "\n",
        "### Getting direct values from Enums\n",
        "\n",
        "If you are writing a user-centric API, where the Enum acts as a convience towards some parameter, while also still wanting to accept the string, this should absolutely be implemented. It keeps the API readable and allows for tab-completion for your user (very important!)\n",
        "\n",
        "As we saw later on, the cost of doing so is you limit yourself to a base `Enum` class and you cannot apply any metaclasses you might want without a large chunk of frustration.\n",
        "\n",
        "Recommendation: 7/10\n",
        "\n",
        "> Note: For a more abstract example of something similar, see `fastcore`'s [AttrDict](https://fastcore.fast.ai/basics.html#AttrDict)\n",
        "\n",
        "### Documented Enums\n",
        "\n",
        "If you're creating your namespace classes well, you shouldn't need to document them as their meanings should be straightforward to understand.\n",
        "\n",
        "**But**: If there is ever a case where this is not possible, then you *absolutely should*. Not having special acronyms or meanings documented directly with the code in a reachable manner hurts code usability to the user, and can potentially frustrate them. \n",
        "\n",
        "Recommendation: 9/10\n",
        "\n",
        "### Adding custom comparators to your Enum\n",
        "\n",
        "Similarly to the direct values, if you are writing a user API it is better for *you* (the writer!) to be able to have a simple interface to perform logic that shouldn't need heavy refactoring just to allow for a particular interface.\n",
        "\n",
        "Recommendation: 9/10"
      ],
      "metadata": {
        "id": "luR70mrT6eHY"
      }
    },
    {
      "cell_type": "markdown",
      "source": [
        "## Conclusion\n",
        "\n",
        "I hope you all enjoyed this little exploration into Enums and subclassing. If you liked this content please make sure to give me a follow on [twitter](https://twitter.com/TheZachMueller) as that's where I'll post new articles and relevent tips or tricks!\n",
        "\n",
        "Thanks for reading!"
      ],
      "metadata": {
        "id": "O-fOs--R8piX"
      }
    }
  ],
  "metadata": {
    "colab": {
      "name": "scratchpad",
      "provenance": []
    },
    "kernelspec": {
      "display_name": "Python 3",
      "name": "python3"
    }
  },
  "nbformat": 4,
  "nbformat_minor": 0
}