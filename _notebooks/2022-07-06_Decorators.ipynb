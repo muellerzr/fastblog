{
  "cells": [
    {
      "cell_type": "markdown",
      "source": [
        "# Decorators\n",
        "> An introduction to decorators including when they can be useful and how they're written\n",
        "\n",
        "- toc: true\n",
        "- badges: true\n",
        "- comments: true\n",
        "- category: python"
      ],
      "metadata": {
        "id": "2iguWTYpLHqw"
      }
    },
    {
      "cell_type": "markdown",
      "source": [
        "## TL;DR\n",
        "\n",
        "Here's the basic decorator written in this article (though I recommend still reading and going through it so it makes sense!)"
      ],
      "metadata": {
        "id": "t9TqdCPcoLmA"
      }
    },
    {
      "cell_type": "code",
      "source": [
        "from functools import partial\n",
        "\n",
        "def addition_decorator(function:callable = None, verbose:bool=False):\n",
        "    \"A simple decorator that will ensure `function` is only called with `function(1,1)`\"\n",
        "    if function is None:\n",
        "        return partial(addition_decorator, verbose=verbose)\n",
        "    def decorator(*args, **kwargs):\n",
        "        while True:\n",
        "            try:\n",
        "                return function(*args, **kwargs)\n",
        "            except ValueError as e:\n",
        "                is_a = \"`a`\" in e.args[0]\n",
        "                a,b = args\n",
        "                args = (a-1, b) if is_a else (a, b-1)\n",
        "                if verbose: \n",
        "                    print(f'Args are now {args}')\n",
        "    return decorator\n",
        "\n",
        "@addition_decorator(verbose=True)\n",
        "def addition(a,b):\n",
        "    \"Adds `a` and `b` together\"\n",
        "    if a > 1: \n",
        "        raise ValueError(\"`a` is greater than 1\")\n",
        "    if b > 1: \n",
        "        raise ValueError(\"`b` is greater than 1\")\n",
        "    return a+b"
      ],
      "metadata": {
        "id": "TiOiR3_zoQsI"
      },
      "execution_count": null,
      "outputs": []
    },
    {
      "cell_type": "markdown",
      "source": [
        "## What is a decorator?\n",
        "\n",
        "What is a decorator, and why is it useful?\n",
        "\n",
        "A decorator can be thought of as code that \"wraps\" around other code. It encapsulates it, kind of like a blanket! They're extremely helpful for setting up a particular configuration for the \"decorated\" (a function that has a decorator) function, or to do some particular behavior when something occurs in the code its wrapped around.\n",
        "\n",
        "In python these are generally denoted with an `@` symbol followed by the decorator function name, and these are placed above an actual function. "
      ],
      "metadata": {
        "id": "kW9pdpAELOGx"
      }
    },
    {
      "cell_type": "markdown",
      "source": [
        "## What is this article going to show?\n",
        "\n",
        "I'm not going to dive into \"how to make your own decorators from scratch\" and so forth. There's a [W3](https://www.geeksforgeeks.org/decorators-in-python/) article on this. \n",
        "\n",
        "Instead, we're going to focus on writing a decorator given what you'd find everyone else using, a few applications of them, and how to understand just what a decorator is doing and how it's written. What I'm hoping you will take out of this is patterns when writing decorators so you can understand them easier both from a reading and writing perspective, as well as when debugging functions to see what outside behaviour is being performed"
      ],
      "metadata": {
        "id": "6RXPXVguoLIe"
      }
    },
    {
      "cell_type": "markdown",
      "source": [
        "## Example case: a Retry Decorator\n",
        "\n",
        "The decorator we'll focus on is a \"retry\" loop. Say I have a function and I want to be able to catch if a particular call gets raised while it's run. \n",
        "\n",
        "From a Deep Learning perspective this could be something like a CUDA Out-of-Memory for instance. \n",
        "\n",
        "If this `Exception` has been raised, I want to be able to run the code again slightly modifying one aspect of it to potentially avoid the error being raised. \n",
        "\n",
        "For this example I'll make a simplistic `addition` function that will only be ran if 1+1 is being done as its inputs. \n",
        "\n",
        "(Does this make sense in the real world? Probably not. But you can get the simple idea!)"
      ],
      "metadata": {
        "id": "Ff1LnHVhNRPU"
      }
    },
    {
      "cell_type": "code",
      "execution_count": null,
      "metadata": {
        "id": "lIYdn1woOS1n"
      },
      "outputs": [],
      "source": [
        "def addition(a,b):\n",
        "    \"Adds `a` and `b` together\"\n",
        "    if a > 1: \n",
        "        raise ValueError(\"`a` is greater than 1\")\n",
        "    if b > 1: \n",
        "        raise ValueError(\"`b` is greater than 1\")\n",
        "    return a+b"
      ]
    },
    {
      "cell_type": "markdown",
      "source": [
        "Now logically let's think of how we'd want to catch this. We raise the same error type, but how do we know what input to change? \n",
        "\n",
        "We can read `Exception.args` to get the actual message being sent, and use it to see which argument we should adjust.\n",
        "\n",
        "Generally decorators are written as a function with an `inner` function. This inner function is what is then called when truly calling the function. Meanwhile the decorator takes the function in as the first parameter:"
      ],
      "metadata": {
        "id": "B2GlAeUoOFyc"
      }
    },
    {
      "cell_type": "code",
      "source": [
        "def addition_decorator(function: callable, verbose:bool=False):\n",
        "    \"\"\"\n",
        "    A simple decorator that will ensure `function` is only called with `function(1,1)`\n",
        "    \"\"\"\n",
        "    def decorator(*args, **kwargs):\n",
        "        # This contains the args and kwargs for our `function`\n",
        "        # We then do a `while` loop:\n",
        "        while True:\n",
        "            try:\n",
        "                return function(*args, **kwargs)\n",
        "            except ValueError as e:\n",
        "                # We can then see if we need to adjust `a` or `b`\n",
        "                is_a = \"`a`\" in e.args[0]\n",
        "                # and then we adjust the current `args` based on this result:\n",
        "                a,b = args\n",
        "                # We can also print our attempt here:\n",
        "                if verbose:\n",
        "                    print(f'Tried to do {a} + {b}, but at least one argument is greater than 1!')\n",
        "                if is_a:\n",
        "                    if verbose:\n",
        "                        print(f'Reducing `a` by 1: {a-1}')\n",
        "                    args = (a-1, b)\n",
        "                else:\n",
        "                    if verbose:\n",
        "                        print(f'Reducing `b` by 1: {b-1}')\n",
        "                    args = (a, b-1)\n",
        "    # Finally we return the inner function! *Very* important!\n",
        "    return decorator"
      ],
      "metadata": {
        "id": "PrnMOGUKOFUb"
      },
      "execution_count": null,
      "outputs": []
    },
    {
      "cell_type": "markdown",
      "source": [
        "With this simple decorator, we will continuously loop over and try calling `function` until both `a` and `b` are equal to 1.\n",
        "\n",
        "Now how do we actually apply this decorator? \n",
        "\n",
        "We can do this one of two ways. We can \"wrap\" around the function and call it as a normal function. For example:"
      ],
      "metadata": {
        "id": "ZtilJi-hPgYN"
      }
    },
    {
      "cell_type": "code",
      "source": [
        "func = addition_decorator(addition)\n",
        "func(2,2)"
      ],
      "metadata": {
        "colab": {
          "base_uri": "https://localhost:8080/"
        },
        "id": "paUeKLP2Pfyp",
        "outputId": "8fba8e45-c7c8-41ca-aa61-44e195ac7e14"
      },
      "execution_count": null,
      "outputs": [
        {
          "output_type": "execute_result",
          "data": {
            "text/plain": [
              "2"
            ]
          },
          "metadata": {},
          "execution_count": 18
        }
      ]
    },
    {
      "cell_type": "markdown",
      "source": [
        "Now let's pass in `verbose=True` to see just how it was really called:"
      ],
      "metadata": {
        "id": "Z70u1GaHQEV3"
      }
    },
    {
      "cell_type": "code",
      "source": [
        "func = addition_decorator(addition, verbose=True)\n",
        "func(2,2)"
      ],
      "metadata": {
        "colab": {
          "base_uri": "https://localhost:8080/"
        },
        "id": "dXFGldvfPwlo",
        "outputId": "daa81213-3cef-4a3a-cb0d-6f59769f4be0"
      },
      "execution_count": null,
      "outputs": [
        {
          "output_type": "stream",
          "name": "stdout",
          "text": [
            "Tried to do 2 + 2, but at least one argument is greater than 1!\n",
            "Reducing `a` by 1: 1\n",
            "Tried to do 1 + 2, but at least one argument is greater than 1!\n",
            "Reducing `b` by 1: 1\n"
          ]
        },
        {
          "output_type": "execute_result",
          "data": {
            "text/plain": [
              "2"
            ]
          },
          "metadata": {},
          "execution_count": 19
        }
      ]
    },
    {
      "cell_type": "markdown",
      "source": [
        "You can see that we continuously reduced an input we passed in and passed it to the function before finally getting the value we want! \n",
        "\n",
        "Now how do I write this in such a way that doesn't require me to build this new function `func` and call it? How can I just call `addition` and still have `addition_decorator`?\n",
        "\n",
        "First we would declare `addition_decorator`, and then add `@addition_decorator` to the top of our `addition` function like below:"
      ],
      "metadata": {
        "id": "Lxw5QH3GQan4"
      }
    },
    {
      "cell_type": "code",
      "source": [
        "@addition_decorator\n",
        "def addition(a,b):\n",
        "    \"Adds `a` and `b` together\"\n",
        "    if a > 1: \n",
        "        raise ValueError(\"`a` is greater than 1\")\n",
        "    if b > 1: \n",
        "        raise ValueError(\"`b` is greater than 1\")\n",
        "    return a+b"
      ],
      "metadata": {
        "id": "J2npQ46SQRWJ"
      },
      "execution_count": null,
      "outputs": []
    },
    {
      "cell_type": "markdown",
      "source": [
        "Now when we see how `addition` is declared we can see it points to the decorator:"
      ],
      "metadata": {
        "id": "L-h2QpXKQ1TI"
      }
    },
    {
      "cell_type": "code",
      "source": [
        "addition"
      ],
      "metadata": {
        "colab": {
          "base_uri": "https://localhost:8080/"
        },
        "id": "2-Xy3xEOQ0ap",
        "outputId": "369550d5-d8ac-450c-fa79-6aabd43cffbc"
      },
      "execution_count": null,
      "outputs": [
        {
          "output_type": "execute_result",
          "data": {
            "text/plain": [
              "<function __main__.addition_decorator.<locals>.decorator>"
            ]
          },
          "metadata": {},
          "execution_count": 22
        }
      ]
    },
    {
      "cell_type": "markdown",
      "source": [
        "And when we call `addition` it will have the same effect:"
      ],
      "metadata": {
        "id": "9NUBRVepQ41k"
      }
    },
    {
      "cell_type": "code",
      "source": [
        "addition(2,2)"
      ],
      "metadata": {
        "colab": {
          "base_uri": "https://localhost:8080/"
        },
        "id": "UuW04IuQQzpw",
        "outputId": "99bef46b-7990-42df-c213-ff889fc418f3"
      },
      "execution_count": null,
      "outputs": [
        {
          "output_type": "execute_result",
          "data": {
            "text/plain": [
              "2"
            ]
          },
          "metadata": {},
          "execution_count": 23
        }
      ]
    },
    {
      "cell_type": "markdown",
      "source": [
        "So how is it doing this?\n",
        "\n",
        "By wrapping our function it uses that function to fill in the first parameter in our decorator by itself! This leaves the rest of them to their default values however.\n"
      ],
      "metadata": {
        "id": "H9rB-HbZQ8w6"
      }
    },
    {
      "cell_type": "markdown",
      "source": [
        "## Making it a bit more complex, passing in arguments\n",
        "\n",
        "So how could we configure that `verbose` argument then? \n",
        "\n",
        "Here's where a bit of magic comes in through *partial* functions. \n",
        "\n",
        "Partial's allow us to create a *loaded* function with some values already filled in for us by default. This makes use of the `functools` library. First we'll write a small function to test our point:"
      ],
      "metadata": {
        "id": "NajlU23fRedx"
      }
    },
    {
      "cell_type": "code",
      "source": [
        "def subtraction(a,b): \n",
        "    \"Subtract two numbers\"\n",
        "    return a-b"
      ],
      "metadata": {
        "id": "g3xReAo7Q8N3"
      },
      "execution_count": null,
      "outputs": []
    },
    {
      "cell_type": "markdown",
      "source": [
        "Next we'll import `partial` and create our partial version of `subtraction`. For any values you wish to fill you should pass them as keyword arguments:"
      ],
      "metadata": {
        "id": "u1eSopepRsIw"
      }
    },
    {
      "cell_type": "code",
      "source": [
        "from functools import partial\n",
        "partial_subtraction = partial(subtraction, a=2)"
      ],
      "metadata": {
        "id": "Zo2Scy-WRk2g"
      },
      "execution_count": null,
      "outputs": []
    },
    {
      "cell_type": "markdown",
      "source": [
        "Now if I call `partial_subtraction`, I can just pass in `b` and it will work:"
      ],
      "metadata": {
        "id": "ZdFJxPszR33M"
      }
    },
    {
      "cell_type": "code",
      "source": [
        "partial_subtraction(b=1)"
      ],
      "metadata": {
        "colab": {
          "base_uri": "https://localhost:8080/"
        },
        "id": "E-oaaSniR3Zg",
        "outputId": "958947b0-9cba-4be4-e1c6-2f711f9fcc98"
      },
      "execution_count": null,
      "outputs": [
        {
          "output_type": "execute_result",
          "data": {
            "text/plain": [
              "1"
            ]
          },
          "metadata": {},
          "execution_count": 27
        }
      ]
    },
    {
      "cell_type": "markdown",
      "source": [
        "We can perform a similar idea for our decorator, where we return a partial function first filling in our values that we want if `function` is `None`.\n",
        "\n",
        "The reason for this is the decorator gets applied *before* the function is called within it, so we setup the parameters we want first. I'll print out when this occurs in our decorator as well so you can see this behavior, and I've also simplified it to show the point I'm trying to visualize for you:"
      ],
      "metadata": {
        "id": "fzJO40DaSFWZ"
      }
    },
    {
      "cell_type": "markdown",
      "source": [
        "> Note: Since everything can now be passed in as kwargs, each value in the function parameters **must** contain a default of some sort. Usually this would be `None`, which I've done here"
      ],
      "metadata": {
        "id": "GhJVUlVsStif"
      }
    },
    {
      "cell_type": "code",
      "source": [
        "def addition_decorator(function:callable = None, verbose:bool=False):\n",
        "    \"A simple decorator that will ensure `function` is only called with `function(1,1)`\"\n",
        "    if function is None:\n",
        "        # We return our original function with the `verbose` param\n",
        "        print(f'Creating a new `addition_decorator` function with verbose={verbose}')\n",
        "        return partial(addition_decorator, verbose=verbose)\n",
        "    def decorator(*args, **kwargs):\n",
        "        while True:\n",
        "            try:\n",
        "                return function(*args, **kwargs)\n",
        "            except ValueError as e:\n",
        "                is_a = \"`a`\" in e.args[0]\n",
        "                a,b = args\n",
        "                if is_a:\n",
        "                    if verbose:\n",
        "                        print(f'Reducing `a` by 1: {a-1}')\n",
        "                    args = (a-1, b)\n",
        "                else:\n",
        "                    if verbose:\n",
        "                        print(f'Reducing `b` by 1: {b-1}')\n",
        "                    args = (a, b-1)\n",
        "    # Finally we return the inner function! *Very* important!\n",
        "    return decorator"
      ],
      "metadata": {
        "id": "LI5OskkYR9Qn"
      },
      "execution_count": null,
      "outputs": []
    },
    {
      "cell_type": "markdown",
      "source": [
        "To add this parameter, we pass it into the `@` function itself. Once we've declared our `addition` function, we should see a print statement immediatly:"
      ],
      "metadata": {
        "id": "oxvISAQwTCw8"
      }
    },
    {
      "cell_type": "code",
      "source": [
        "@addition_decorator(verbose=True)\n",
        "def addition(a,b):\n",
        "    \"Adds `a` and `b` together\"\n",
        "    if a > 1: \n",
        "        raise ValueError(\"`a` is greater than 1\")\n",
        "    if b > 1: \n",
        "        raise ValueError(\"`b` is greater than 1\")\n",
        "    return a+b"
      ],
      "metadata": {
        "colab": {
          "base_uri": "https://localhost:8080/"
        },
        "id": "7HdUvHWQTCWA",
        "outputId": "175ed444-3939-4fab-9a99-21fb8c593687"
      },
      "execution_count": null,
      "outputs": [
        {
          "output_type": "stream",
          "name": "stdout",
          "text": [
            "Creating a new `addition_decorator` function with verbose=True\n"
          ]
        }
      ]
    },
    {
      "cell_type": "markdown",
      "source": [
        "And now if we call `addition`:"
      ],
      "metadata": {
        "id": "QTIeC11BTVNN"
      }
    },
    {
      "cell_type": "code",
      "source": [
        "addition(2,2)"
      ],
      "metadata": {
        "colab": {
          "base_uri": "https://localhost:8080/"
        },
        "id": "T4kA5Q4mTJBA",
        "outputId": "5f8ce813-1a96-4f8c-a021-69fedc3fb0d3"
      },
      "execution_count": null,
      "outputs": [
        {
          "output_type": "stream",
          "name": "stdout",
          "text": [
            "Reducing `a` by 1: 1\n",
            "Reducing `b` by 1: 1\n"
          ]
        },
        {
          "output_type": "execute_result",
          "data": {
            "text/plain": [
              "2"
            ]
          },
          "metadata": {},
          "execution_count": 32
        }
      ]
    },
    {
      "cell_type": "markdown",
      "source": [
        "We can see that it prints out the same information we had earlier!\n",
        "\n",
        "You now know *almost* enough to be on your way with decorators"
      ],
      "metadata": {
        "id": "6J1l0pYkTX4J"
      }
    },
    {
      "cell_type": "markdown",
      "source": [
        "## The most extreme example with `nonlocal`.\n",
        "\n",
        "I'm going to provide a real example of what using `nonlocal` can actually provide for you and perform (that weird python thing no one really does?)\n",
        "\n",
        "The choice to explain it like this is simply because coming up with a similar situation is something I can't quite think of well, and this serves as a good example.\n",
        "\n",
        "This example is that \"cuda out of memory\" I showed earlier in [accelerate](https://github.com/huggingface/accelerate/blob/main/src/accelerate/utils/memory.py)\n",
        "\n",
        "The API can be thought of as so:\n",
        "\n",
        "1. Write a training function that takes a `batch_size` as the first argument\n",
        "2. Decorate this training function with the `find_executable_batch_size` decorator\n",
        "3. Have it continuously try and run, and if cuda OOM is hit, retry the loop by reducing the batch size in half. \n",
        "\n",
        "Let's see how this is implemented:\n",
        "> Note: this will be a simplified version of the official decorator for teaching purposes"
      ],
      "metadata": {
        "id": "wVBcb4FAl3Um"
      }
    },
    {
      "cell_type": "code",
      "source": [
        "import gc, torch\n",
        "\n",
        "def find_executable_batch_size(function:callable = None, starting_batch_size:int = 128):\n",
        "    \"\"\"\n",
        "    Decorator that will attempt to execute `function` with `starting_batch_size`.\n",
        "    If CUDA Out-of-Memory is reached, the batch size is reduced in half and tried again.\n",
        "\n",
        "    `function` must take in `batch_size` as its first parameter\n",
        "    \"\"\"\n",
        "    if function is None:\n",
        "        return partial(find_executable_batch_size, starting_batch_size=starting_batch_size)\n",
        "    \n",
        "    # Keep a `batch_size` variable that gets updated and modified\n",
        "    batch_size = starting_batch_size\n",
        "\n",
        "    def decorator(*args, **kwargs):\n",
        "        # Bring it into context\n",
        "        nonlocal batch_size\n",
        "        gc.collect()\n",
        "        torch.cuda.empty_cache()\n",
        "\n",
        "        while True:\n",
        "            if batch_size == 0:\n",
        "                raise RuntimeError(\"No executable batch size found\")\n",
        "            try:\n",
        "                return function(batch_size, *args, **kwargs)\n",
        "            except RuntimeError as e:\n",
        "                if \"CUDA out of memory\" in e.args[0]:\n",
        "                    # We reduce the batch size and clear the memory\n",
        "                    gc.collect()\n",
        "                    torch.cuda.empty_cache()\n",
        "                    batch_size //= 2\n",
        "                else:\n",
        "                    # Otherwise raise the original error\n",
        "                    raise\n",
        "\n",
        "    return decorator"
      ],
      "metadata": {
        "id": "WLNvJgzImwJn"
      },
      "execution_count": null,
      "outputs": []
    },
    {
      "cell_type": "markdown",
      "source": [
        "Here we make use of our `starting_batch_size` and use it as a parameter that constantly changes and adapts based on what happened in our `try/except` loop below. "
      ],
      "metadata": {
        "id": "KTA-s3i9ntEC"
      }
    },
    {
      "cell_type": "markdown",
      "source": [
        "## Conclusion\n",
        "\n",
        "Hopefully this gave you a better insight into decorators some! My next article will be discussing context managers and when you should do one vs the other. Thanks for reading!"
      ],
      "metadata": {
        "id": "KlTsJ3FXnzoP"
      }
    }
  ],
  "metadata": {
    "colab": {
      "provenance": []
    },
    "kernelspec": {
      "display_name": "Python 3",
      "name": "python3"
    }
  },
  "nbformat": 4,
  "nbformat_minor": 0
}