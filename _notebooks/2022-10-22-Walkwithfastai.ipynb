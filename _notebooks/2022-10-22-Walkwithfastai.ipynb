{
 "cells": [
  {
   "cell_type": "markdown",
   "id": "71c5434b-9c60-4c2c-a19a-22891fbb49a4",
   "metadata": {},
   "source": [
    "# Announcing Walk with fastai, the missing pieces for success\n",
    "\n",
    "> Details about my newest course, available at https://thezachmueller.gumroad.com/l/walkwithfastai\n",
    "\n",
    "- toc: true\n",
    "- badges: true\n",
    "- comments: true\n",
    "- image: images/wwf-banner.png"
   ]
  },
  {
   "cell_type": "markdown",
   "id": "ff2361ee-e36f-4a2a-a95d-a3b8d1e63065",
   "metadata": {},
   "source": [
    "# Walk with fastai, the missing pieces for success\n",
    "\n",
    "You heard that right, three years after the hit course [Walk with fastai](https://walkwithfastai.com) we're coming back with an action-packed round two!\n",
    "\n",
    "This course has been in the making since the *day* version 1 finished, as I was never truly happy with how that one ended up. It was great, but there was much to be desired. This course is designed to help fill those gaps. Let's dive in!"
   ]
  },
  {
   "cell_type": "markdown",
   "id": "f5219710-2b80-42b3-bdad-408dedeaca45",
   "metadata": {},
   "source": [
    "## Why do this? What's different?\n",
    "\n",
    "First let's talk about what's new. This course will **still** take you from someone who either has completed Jeremy Howards [course](https://course.fast.ai) or who hasn't even **touched** fastai at all and take you to a level above most practitioners. We still start at an understanding of some Python, and maybe some PyTorch and take you further beyond.\n",
    "\n",
    "However it's been three years since the first came out and much has changed. New techiques have been released, changes to the framework have occured, and in these times concepts like *distributed computing* mean much more! As a result over **50%** of the course material is *completely new*. \n",
    "\n",
    "But wait, what about the old material?\n",
    "\n",
    "The old material is also completely redone and added verbose content thanks to the power of Quarto and nbdev. Just look at the before and after:\n",
    "\n",
    "### Before: \n",
    "\n",
    "![image.png](../images/img1.png)"
   ]
  },
  {
   "cell_type": "markdown",
   "id": "f286b996-8f84-448a-9998-8b5e6943ccff",
   "metadata": {},
   "source": [
    "### After:"
   ]
  },
  {
   "cell_type": "markdown",
   "id": "2ac62035-9a34-46bd-aa47-d911d786cdbb",
   "metadata": {},
   "source": [
    "![image.png](../images/img2.png)"
   ]
  },
  {
   "cell_type": "markdown",
   "id": "668c58c0-9c8e-4daf-b751-a3259e485404",
   "metadata": {},
   "source": [
    "No longer is this course just a passing resource, but instead it could be read entirely on its own without the accompaning lecture content and be infinitely more valuable than its predecessor. "
   ]
  },
  {
   "cell_type": "markdown",
   "id": "99af1678-c9ae-4116-bd41-dcd4b2ca6c46",
   "metadata": {},
   "source": [
    "## What about the original course?\n",
    "\n",
    "The original course will always be free and a readily-available resource to all, however its content will not be updated for latest iterations of the framework and so forth. The YouTube videos will not be going anywhere, and the code repository wil still be publically available. Always. \n",
    "\n",
    "That being said, this new version of the course will go much futher beyond than the original did, and has enough material to have it stand out as its own and not just be a complete repeat of what was presented three years ago."
   ]
  },
  {
   "cell_type": "markdown",
   "id": "e8b63646-b43b-4df7-8122-83a99d83c314",
   "metadata": {},
   "source": [
    "## Not convinced? Here's what others have to say about the original course:"
   ]
  },
  {
   "cell_type": "markdown",
   "id": "1c44f0e5-18a1-411b-b54e-41839ce469da",
   "metadata": {},
   "source": [
    "> Zach Mueller is probably the most active member of the fastai community. He is also very actively involved with fastai development. If there is one person who understands the fastai library through and through (apart from Jeremy Howard and Sylvain Gugger), that is certainly Zach! He went out of his way to create a fabulous learning resource for us, Walk With Fastai. Numerous notebooks explaining how to work with the library to achieve wonderful results. A must read! - Radek Osmulski, Senior Data Scientist at NVIDIA AI"
   ]
  },
  {
   "cell_type": "markdown",
   "id": "7339a4e9-6813-448d-be32-0e3c87798bb9",
   "metadata": {},
   "source": [
    "> Walk with Fastai is the best source available for utilizing fastai and goes above and beyond what is available in the documentation. Zach somehow extracted all of the knowledge I wanted to know about fastai and combined it into blog posts, videos, and source code that are easy to follow and build on. If you want to use fastai, this is a great resource to reference. I've had to go back and forth a couple of times between the best source (between it and fastbook) and I think I've gotten more out of Walk with fastai. - Kevin Bird"
   ]
  },
  {
   "cell_type": "markdown",
   "id": "d60b8d9e-99ae-4038-bff8-58492670b7c4",
   "metadata": {},
   "source": [
    "> I really enjoyed the vision section Zach’s Walk with fastai series. His extension of the fastai keypoint example from a single point to multipoint was really great and importantly included covering the basics of doing ML well such as cleaning the data, ensuring the transforms make sense and so forth before starting any modelling - super critical to teaching deep learning. I loved that he then goes deeper and shows off how to customize a UNET for key point regression (because why not!) and really get the most out of the fastai API. Highly recommended as an accompaniment to the fastai course! - Morgan McGuire, Growth ML Engineer at Weights and Biases"
   ]
  },
  {
   "cell_type": "markdown",
   "id": "92a6e5a6-35d8-44ee-bbb1-a66e28b3a251",
   "metadata": {},
   "source": [
    "> Your addendum course videos in Walk with fastai is so super useful. I've learnt so much more about using fastai effectively in new problem spaces by combining Jeremy's lessons with your own, and am still learning as I am still progressing through them. - Nissan Dookeran"
   ]
  },
  {
   "cell_type": "markdown",
   "id": "646c2945-4945-4510-88bf-f183dc6ee1e0",
   "metadata": {},
   "source": [
    "## How do I sign up?\n",
    "\n",
    "Preorders are now live, which you can find [here](https://thezachmueller.gumroad.com/l/walkwithfastai). \n",
    "\n",
    "I value your trust in me as a teacher and a creator so if you preorder before the course begins you will be able to not only attend the lectures **live** and directly as me questions, but you will also get weekly updates from me detailing progress, teases, and overall how the course is coming along. \n",
    "\n",
    "If you do not preorder you will receive access to the material as a lesson finishes, within a day for the unedited lecture and within a week for the edited ones. \n",
    "\n",
    "Also starting today preorders are now 50% off, so be sure to get them while they're available!"
   ]
  },
  {
   "cell_type": "code",
   "execution_count": null,
   "id": "35215825-3a6a-421b-8d43-1505d79fe627",
   "metadata": {},
   "outputs": [],
   "source": []
  }
 ],
 "metadata": {
  "kernelspec": {
   "display_name": "Python 3 (ipykernel)",
   "language": "python",
   "name": "python3"
  },
  "language_info": {
   "codemirror_mode": {
    "name": "ipython",
    "version": 3
   },
   "file_extension": ".py",
   "mimetype": "text/x-python",
   "name": "python",
   "nbconvert_exporter": "python",
   "pygments_lexer": "ipython3",
   "version": "3.8.10"
  }
 },
 "nbformat": 4,
 "nbformat_minor": 5
}
