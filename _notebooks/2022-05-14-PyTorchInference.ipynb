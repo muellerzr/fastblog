{
 "cells": [
  {
   "cell_type": "markdown",
   "id": "71c5434b-9c60-4c2c-a19a-22891fbb49a4",
   "metadata": {},
   "source": [
    "# Inference in PyTorch, what do the wrappers mean? What's best?\n",
    "\n",
    "> A tour through PyTorch's various context managers, torch script, and comparing performance\n",
    "\n",
    "- toc: true\n",
    "- badges: true\n",
    "- comments: true\n",
    "- image: images/chart-preview.png\n",
    "- category: torch"
   ]
  },
  {
   "cell_type": "markdown",
   "id": "bfafcfc8-06f3-46da-8ef3-dee99f1bdec9",
   "metadata": {},
   "source": [
    "---\n",
    "\n",
    "This blog is also a Jupyter notebook available to run from the top down. There will be code snippets that you can then run in any environment. In this section I will be posting what version of `torch` I am currently running at the time of writing this:\n",
    "\n",
    "\n",
    "* `torch`: 1.10.2\n",
    "\n",
    "Benchmarks were ran on a NVIDIA RTX 3070 Laptop GPU\n",
    "\n",
    "---"
   ]
  },
  {
   "cell_type": "markdown",
   "id": "5565880d-9e1b-4c4b-91c2-9eec90f7874c",
   "metadata": {},
   "source": [
    "## Why are we doing this?\n",
    "\n",
    "Earlier today, [Francesco Pochetti](https://twitter.com/Fra_Pochetti) had pinged on the fastai discord asking if when using inference for a torch model, whether `no_grad` was needed when the model has been scripted. This then got me curious on timings, which as we've seen previously I *love* to do benchmarks like this!\n",
    "\n",
    "So, I followed along PyTorch's fantastic [inference tutorial using TorchScript](https://pytorch.org/tutorials/recipes/torchscript_inference.html) and went to work! \n",
    "\n",
    "What we'll explore in this article are the three \"modes\" for running a torch model:\n",
    "- Regular\n",
    "- `no_grad`\n",
    "- `inference_mode`\n",
    "\n",
    "How each of them differ in what they do, and overall how the timings for each performed.\n",
    "\n",
    "For the initial testing, we'll use a resnet18 on three different batch sizes (1, 16, and 64) to see the full effect of our efforts"
   ]
  },
  {
   "cell_type": "markdown",
   "id": "56adedc0-fd8a-42c7-ae60-73ca8643c730",
   "metadata": {},
   "source": [
    "## Making a Baseline\n",
    "\n",
    "When doing experiments, it's always important to make proper benchmarks! Since we're comparing three modes, as well as two different models (torch scripted vs not), the the initial benchmark will be of our base model and torch scripted model without any context managers.\n",
    "\n",
    "First let's make our models:"
   ]
  },
  {
   "cell_type": "code",
   "execution_count": null,
   "id": "ec66279c-c934-4abf-a080-3cb80294174d",
   "metadata": {},
   "outputs": [],
   "source": [
    "import torch\n",
    "from torchvision.models import resnet18\n",
    "\n",
    "baseline_resnet = resnet18(pretrained=True).eval()\n",
    "scripted_resnet = torch.jit.script(baseline_resnet).eval()"
   ]
  },
  {
   "cell_type": "markdown",
   "id": "12e92531-c4ec-47c3-825a-8d79a9a04d23",
   "metadata": {},
   "source": [
    "Next we'll setup our batches:"
   ]
  },
  {
   "cell_type": "code",
   "execution_count": null,
   "id": "bdf22dc1-8599-4738-81b2-c33b33746a65",
   "metadata": {},
   "outputs": [],
   "source": [
    "bs = [1,16,64]\n",
    "batches = [torch.rand(size, 3, 224, 224) for size in bs]"
   ]
  },
  {
   "cell_type": "markdown",
   "id": "d5f3bf74-a972-4cb8-ac88-35d0a9165f3c",
   "metadata": {},
   "source": [
    "And finally set them all to CUDA"
   ]
  },
  {
   "cell_type": "code",
   "execution_count": 3,
   "id": "b713390f-e3ea-487e-9c84-bf657ea5e30e",
   "metadata": {},
   "outputs": [],
   "source": [
    "baseline_resnet.cuda()\n",
    "scripted_resnet.cuda()\n",
    "for i in range(len(batches)):\n",
    "    batches[i] = batches[i].cuda()"
   ]
  },
  {
   "cell_type": "markdown",
   "id": "f0516d99-f972-4485-86b3-a86d915dd555",
   "metadata": {},
   "source": [
    "We'll also keep this interesting by keeping track of the allocated memory used by each. First we'll grab the current memory being used:"
   ]
  },
  {
   "cell_type": "code",
   "execution_count": null,
   "id": "9404c08b-702a-4dd1-841c-90d12f76cd30",
   "metadata": {},
   "outputs": [],
   "source": [
    "def get_mb(key):\n",
    "    \"A helpful function to get a readable size of an allocation\"\n",
    "    sz = torch.cuda.memory_stats()[key]\n",
    "    return sz // 1024 // 1024"
   ]
  },
  {
   "cell_type": "code",
   "execution_count": 5,
   "id": "a4e287b1-f03b-4351-ae1b-4fe0810676d7",
   "metadata": {},
   "outputs": [
    {
     "data": {
      "text/plain": [
       "91"
      ]
     },
     "execution_count": 5,
     "metadata": {},
     "output_type": "execute_result"
    }
   ],
   "source": [
    "get_mb(\"allocated_bytes.all.current\")"
   ]
  },
  {
   "cell_type": "markdown",
   "id": "de7e7f14-47fc-4220-b72f-12ebb8c5e4fb",
   "metadata": {},
   "source": [
    "This is how much our current memory usage is, and then we can track the peak memory usage once we start doing inference!"
   ]
  },
  {
   "cell_type": "markdown",
   "id": "2e92a842-de66-44cb-ae97-f8290d5e7d2b",
   "metadata": {},
   "source": [
    "Lastly we'll make some dictionaries to provide quick access to what we need:"
   ]
  },
  {
   "cell_type": "code",
   "execution_count": 6,
   "id": "97c3cd15-abbe-4a4e-85bd-7cd0262062e6",
   "metadata": {},
   "outputs": [],
   "source": [
    "import contextlib\n",
    "\n",
    "modes = {\n",
    "    \"none\":contextlib.suppress,\n",
    "    \"no_grad\":torch.no_grad,\n",
    "    \"inference_mode\":torch.inference_mode\n",
    "}\n",
    "\n",
    "models = {\n",
    "    \"baseline\":baseline_resnet,\n",
    "    \"scripted\":scripted_resnet\n",
    "}\n",
    "\n",
    "ranges = {\n",
    "    1:1000,\n",
    "    16:100,\n",
    "    64:10\n",
    "}"
   ]
  },
  {
   "cell_type": "markdown",
   "id": "1a3c8ee2-b701-43e5-ba3e-6217847a0c1d",
   "metadata": {},
   "source": [
    "Now we just wrap up our configuration to get us some benchmarks! The latter half of this blog will be looking at the data:"
   ]
  },
  {
   "cell_type": "code",
   "execution_count": 7,
   "id": "63bb7882-2139-4df6-b411-fa4b293d2b46",
   "metadata": {},
   "outputs": [],
   "source": [
    "import time\n",
    "from prettytable import PrettyTable\n",
    "\n",
    "def benchmark_modes():\n",
    "    overall_reports = []\n",
    "    for mode in [\"none\", \"no_grad\", \"inference_mode\"]:\n",
    "        for batch in batches:\n",
    "            num_times = ranges[batch.shape[0]]\n",
    "            for model_type in [\"baseline\", \"scripted\"]:  \n",
    "                total_time = 0\n",
    "                total_memory = 0\n",
    "                for i in range(num_times):\n",
    "                    torch.cuda.reset_peak_memory_stats()\n",
    "                    initial_memory = get_mb(\"allocated_bytes.all.current\")\n",
    "                    start_time = time.perf_counter_ns()\n",
    "                    with modes[mode]():\n",
    "                        _ = models[model_type](batch)\n",
    "                    torch.cuda.synchronize()\n",
    "                    total_time += (time.perf_counter_ns() - start_time)/1e6\n",
    "                    peak_memory = get_mb(\"allocated_bytes.all.peak\")\n",
    "                    total_memory += peak_memory - initial_memory\n",
    "                overall_reports.append(\n",
    "                    {\n",
    "                        \"mode\":mode,\n",
    "                        \"batch_size\":batch.shape[0],\n",
    "                        \"model_type\":model_type,\n",
    "                        \"time\":round(total_time/num_times, 2),\n",
    "                        \"memory_used\":round(total_memory/num_times, 2),\n",
    "                    }\n",
    "                )\n",
    "    return overall_reports"
   ]
  },
  {
   "cell_type": "code",
   "execution_count": 16,
   "id": "10d0b178-1c8f-42f5-a693-5b724dfeb9a4",
   "metadata": {},
   "outputs": [],
   "source": [
    "results = benchmark_modes()"
   ]
  },
  {
   "cell_type": "markdown",
   "id": "d21537c1-ce11-4801-acdd-c19cdc4e2ba9",
   "metadata": {},
   "source": [
    "## Examining the Results\n",
    "\n",
    "Let's dive deep into our results. First we'll look at everything, based on the context manager and the batch size:"
   ]
  },
  {
   "cell_type": "code",
   "execution_count": 27,
   "id": "f0334747-1a9d-4d74-a7ba-34ac0a24277c",
   "metadata": {},
   "outputs": [
    {
     "name": "stdout",
     "output_type": "stream",
     "text": [
      "Experiment Results:\n",
      "+----------------+------------+------------+-------------------------+--------------------------------+\n",
      "|  Context Mode  | Batch Size | Model Type | Average Time Taken (ms) | Average Total Memory Used (mb) |\n",
      "+----------------+------------+------------+-------------------------+--------------------------------+\n",
      "|      none      |     1      |  baseline  |           1.78          |              33.0              |\n",
      "|                |            |  scripted  |           1.39          |              33.0              |\n",
      "|                |     16     |  baseline  |           7.65          |             345.95             |\n",
      "|                |            |  scripted  |           7.69          |             346.0              |\n",
      "|                |     64     |  baseline  |          26.51          |             1389.5             |\n",
      "|                |            |  scripted  |          26.53          |             1389.5             |\n",
      "|    no_grad     |     1      |  baseline  |           1.63          |              13.0              |\n",
      "|                |            |  scripted  |           1.32          |              13.0              |\n",
      "|                |     16     |  baseline  |           7.62          |             100.0              |\n",
      "|                |            |  scripted  |           7.68          |             100.0              |\n",
      "|                |     64     |  baseline  |          26.35          |             392.0              |\n",
      "|                |            |  scripted  |          26.46          |             392.0              |\n",
      "| inference_mode |     1      |  baseline  |           1.58          |              13.0              |\n",
      "|                |            |  scripted  |           1.29          |              13.0              |\n",
      "|                |     16     |  baseline  |           7.65          |             100.0              |\n",
      "|                |            |  scripted  |           7.68          |             100.0              |\n",
      "|                |     64     |  baseline  |          26.48          |             392.0              |\n",
      "|                |            |  scripted  |          26.53          |             392.0              |\n",
      "+----------------+------------+------------+-------------------------+--------------------------------+\n"
     ]
    }
   ],
   "source": [
    "#hide_input\n",
    "import copy\n",
    "print(\"Experiment Results:\")\n",
    "table = PrettyTable([\"Context Mode\", \"Batch Size\", \"Model Type\", \"Average Time Taken (ms)\", \"Average Total Memory Used (mb)\"])\n",
    "prev_bs = None\n",
    "prev_mode = None\n",
    "reports = copy.deepcopy(results)\n",
    "for report in reports:\n",
    "    if prev_mode == report[\"mode\"]:\n",
    "        report[\"mode\"] = \"\"\n",
    "    else:\n",
    "        prev_mode = None\n",
    "    if prev_bs == report[\"batch_size\"]:\n",
    "        report[\"batch_size\"] = \"\"\n",
    "    else:\n",
    "        prev_bs = None\n",
    "    if prev_bs is None: prev_bs = report[\"batch_size\"]\n",
    "    if prev_mode is None: prev_mode = report[\"mode\"]\n",
    "    table.add_row(report.values())\n",
    "print(table)"
   ]
  },
  {
   "cell_type": "markdown",
   "id": "e0129b50-cb92-4c66-8cdb-5aa295c177d2",
   "metadata": {},
   "source": [
    "We can see that generally the scripted model tends to be slightly faster, independent  of the context manager being used. It also uses the same memory footprint as the non-scripted model. \n",
    "\n",
    "But what if we compare by each context manager themselves?"
   ]
  },
  {
   "cell_type": "code",
   "execution_count": 127,
   "id": "3e8056a7-667a-467e-88da-3999390453d6",
   "metadata": {},
   "outputs": [],
   "source": [
    "#hide\n",
    "table = PrettyTable([\"Model Type\", \"Batch Size\", \"Context Mode\", \"Average Time Taken (ms)\", \"Average Total Memory Used (mb)\"])\n",
    "prev_bs = None\n",
    "prev_mode = None\n",
    "reports = copy.deepcopy(results)\n",
    "reports = sorted(reports, key=lambda x: (x[\"model_type\"], x[\"batch_size\"]))\n",
    "for report in reports:\n",
    "    table.add_row([report[key] for key in [\"model_type\", \"batch_size\",  \"mode\", \"time\", \"memory_used\"]])\n",
    "    "
   ]
  },
  {
   "cell_type": "code",
   "execution_count": 70,
   "id": "8df11ee7-1749-4315-911c-5e63d41162c1",
   "metadata": {},
   "outputs": [
    {
     "name": "stdout",
     "output_type": "stream",
     "text": [
      "+---------------------------------------------------------------------------+\n",
      "|                        Baseline Model, Batch Size 1                       |\n",
      "+----------------+-------------------------+--------------------------------+\n",
      "|  Context Mode  | Average Time Taken (ms) | Average Total Memory Used (mb) |\n",
      "+----------------+-------------------------+--------------------------------+\n",
      "|      none      |           1.78          |              33.0              |\n",
      "|    no_grad     |           1.63          |              13.0              |\n",
      "| inference_mode |           1.58          |              13.0              |\n",
      "+----------------+-------------------------+--------------------------------+\n",
      "+---------------------------------------------------------------------------+\n",
      "|                       Baseline Model, Batch Size 16                       |\n",
      "+----------------+-------------------------+--------------------------------+\n",
      "|  Context Mode  | Average Time Taken (ms) | Average Total Memory Used (mb) |\n",
      "+----------------+-------------------------+--------------------------------+\n",
      "|      none      |           7.65          |             345.95             |\n",
      "|    no_grad     |           7.62          |             100.0              |\n",
      "| inference_mode |           7.65          |             100.0              |\n",
      "+----------------+-------------------------+--------------------------------+\n",
      "+---------------------------------------------------------------------------+\n",
      "|                       Baseline Model, Batch Size 64                       |\n",
      "+----------------+-------------------------+--------------------------------+\n",
      "|  Context Mode  | Average Time Taken (ms) | Average Total Memory Used (mb) |\n",
      "+----------------+-------------------------+--------------------------------+\n",
      "|      none      |          26.51          |             1389.5             |\n",
      "|    no_grad     |          26.35          |             392.0              |\n",
      "| inference_mode |          26.48          |             392.0              |\n",
      "+----------------+-------------------------+--------------------------------+\n"
     ]
    }
   ],
   "source": [
    "#hide_input\n",
    "for bs, (start,end) in [[1,(0,3)],[16,(3,6)],[64,(6,9)]]:\n",
    "    print(\n",
    "        table.get_string(\n",
    "            sort_key= lambda x: (x[\"Batch Size\"], x[\"Model Type\"]),\n",
    "            fields = list(table.field_names)[2:],\n",
    "            title=f\"Baseline Model, Batch Size {bs}\",\n",
    "            start=start,\n",
    "            end=end,\n",
    "            hrules=0\n",
    "        )\n",
    "    )"
   ]
  },
  {
   "cell_type": "markdown",
   "id": "f4203247-5c68-4434-9789-69694952b43f",
   "metadata": {},
   "source": [
    "For our non-scripted model, we find that for a batch size of 1, inference mode does the best! We see an average speedup of 12%!\n",
    "\n",
    "However, as the batch size increases, this speedup becomes less and less radical, becoming only a fraction of a millisecond. \n",
    "\n",
    "> Note: Notice the importance of having any context manager vs none in the total memory used. We reduced it from 1.3gb to 392mb being used, which is important!\n",
    "\n",
    "Does this pattern continue for our scripted model?"
   ]
  },
  {
   "cell_type": "code",
   "execution_count": 72,
   "id": "a0aaead7-9b49-40f8-b7ad-1747532d6571",
   "metadata": {},
   "outputs": [
    {
     "name": "stdout",
     "output_type": "stream",
     "text": [
      "+---------------------------------------------------------------------------+\n",
      "|                        Scripted Model, Batch Size 1                       |\n",
      "+----------------+-------------------------+--------------------------------+\n",
      "|  Context Mode  | Average Time Taken (ms) | Average Total Memory Used (mb) |\n",
      "+----------------+-------------------------+--------------------------------+\n",
      "|      none      |           1.39          |              33.0              |\n",
      "|    no_grad     |           1.32          |              13.0              |\n",
      "| inference_mode |           1.29          |              13.0              |\n",
      "+----------------+-------------------------+--------------------------------+\n",
      "+---------------------------------------------------------------------------+\n",
      "|                       Scripted Model, Batch Size 16                       |\n",
      "+----------------+-------------------------+--------------------------------+\n",
      "|  Context Mode  | Average Time Taken (ms) | Average Total Memory Used (mb) |\n",
      "+----------------+-------------------------+--------------------------------+\n",
      "|      none      |           7.69          |             346.0              |\n",
      "|    no_grad     |           7.68          |             100.0              |\n",
      "| inference_mode |           7.68          |             100.0              |\n",
      "+----------------+-------------------------+--------------------------------+\n",
      "+---------------------------------------------------------------------------+\n",
      "|                       Scripted Model, Batch Size 64                       |\n",
      "+----------------+-------------------------+--------------------------------+\n",
      "|  Context Mode  | Average Time Taken (ms) | Average Total Memory Used (mb) |\n",
      "+----------------+-------------------------+--------------------------------+\n",
      "|      none      |          26.53          |             1389.5             |\n",
      "|    no_grad     |          26.46          |             392.0              |\n",
      "| inference_mode |          26.53          |             392.0              |\n",
      "+----------------+-------------------------+--------------------------------+\n"
     ]
    }
   ],
   "source": [
    "#hide_input\n",
    "for bs, (start,end) in [[1,(9,12)],[16,(12,15)],[64,(15,18)]]:\n",
    "    print(\n",
    "        table.get_string(\n",
    "            sort_key= lambda x: (x[\"Batch Size\"], x[\"Model Type\"]),\n",
    "            fields = list(table.field_names)[2:],\n",
    "            title=f\"Scripted Model, Batch Size {bs}\",\n",
    "            start=start,\n",
    "            end=end,\n",
    "            hrules=0\n",
    "        )\n",
    "    )"
   ]
  },
  {
   "cell_type": "markdown",
   "id": "e0104b5e-90e0-409d-85a8-621edd573126",
   "metadata": {},
   "source": [
    "Again, we do see this pattern occur even here! But, it looks like we have a time decrease, doesn't it? Our scripted model actually is a decent chunk faster in some cases:"
   ]
  },
  {
   "cell_type": "code",
   "execution_count": 217,
   "id": "e9289b1c-38ea-4f7a-8163-c582811de7d1",
   "metadata": {},
   "outputs": [
    {
     "name": "stdout",
     "output_type": "stream",
     "text": [
      "+----------------------------------------------------------------------------------------+\n",
      "|                              Scripted Model, Batch Size 1                              |\n",
      "+------------+----------------+-------------------------+--------------------------------+\n",
      "| Model Type |  Context Mode  | Average Time Taken (ms) | Average Total Memory Used (mb) |\n",
      "+------------+----------------+-------------------------+--------------------------------+\n",
      "|  baseline  |      none      |           1.78          |              33.0              |\n",
      "|  scripted  |      none      |           1.39          |              33.0              |\n",
      "|  baseline  |    no_grad     |           1.63          |              13.0              |\n",
      "|  scripted  |    no_grad     |           1.32          |              13.0              |\n",
      "|  baseline  | inference_mode |           1.58          |              13.0              |\n",
      "|  scripted  | inference_mode |           1.29          |              13.0              |\n",
      "+------------+----------------+-------------------------+--------------------------------+\n",
      "+----------------------------------------------------------------------------------------+\n",
      "|                             Scripted Model, Batch Size 16                              |\n",
      "+------------+----------------+-------------------------+--------------------------------+\n",
      "| Model Type |  Context Mode  | Average Time Taken (ms) | Average Total Memory Used (mb) |\n",
      "+------------+----------------+-------------------------+--------------------------------+\n",
      "|  baseline  |      none      |           7.65          |             345.95             |\n",
      "|  scripted  |      none      |           7.69          |             346.0              |\n",
      "|  baseline  |    no_grad     |           7.62          |             100.0              |\n",
      "|  scripted  |    no_grad     |           7.68          |             100.0              |\n",
      "|  baseline  | inference_mode |           7.65          |             100.0              |\n",
      "|  scripted  | inference_mode |           7.68          |             100.0              |\n",
      "+------------+----------------+-------------------------+--------------------------------+\n",
      "+----------------------------------------------------------------------------------------+\n",
      "|                             Scripted Model, Batch Size 64                              |\n",
      "+------------+----------------+-------------------------+--------------------------------+\n",
      "| Model Type |  Context Mode  | Average Time Taken (ms) | Average Total Memory Used (mb) |\n",
      "+------------+----------------+-------------------------+--------------------------------+\n",
      "|  baseline  |      none      |          26.51          |             1389.5             |\n",
      "|  scripted  |      none      |          26.53          |             1389.5             |\n",
      "|  baseline  |    no_grad     |          26.35          |             392.0              |\n",
      "|  scripted  |    no_grad     |          26.46          |             392.0              |\n",
      "|  baseline  | inference_mode |          26.48          |             392.0              |\n",
      "|  scripted  | inference_mode |          26.53          |             392.0              |\n",
      "+------------+----------------+-------------------------+--------------------------------+\n"
     ]
    }
   ],
   "source": [
    "#hide_input\n",
    "import operator\n",
    "for bs, (start,end) in [[1,(18,12)],[16,(12,6)],[64,(6,0)]]:\n",
    "    print(\n",
    "        table.get_string(\n",
    "            sort_key=operator.itemgetter(2,3),\n",
    "            fields = table.field_names[:1] + table.field_names[2:],\n",
    "            reversesort=True,\n",
    "            sortby=\"Batch Size\",\n",
    "            title=f\"Scripted Model, Batch Size {bs}\",\n",
    "            start=end,\n",
    "            end=start,\n",
    "            hrules=0\n",
    "        )\n",
    "    )"
   ]
  },
  {
   "cell_type": "markdown",
   "id": "932ffc63-e571-43c7-afda-9e4d842f4898",
   "metadata": {},
   "source": [
    "We see it specifically packing the punch when there was a batch size of 1. Otherwise no matter the context manager used, it always added in a few hundredth's of a second of time. \n",
    "\n",
    "But when does the loss of value happen? Let's find out.\n",
    "\n",
    "We'll run a fresh set of benchmarks, examining the batch size from 1 to 8:"
   ]
  },
  {
   "cell_type": "code",
   "execution_count": 322,
   "id": "8b5b01dd-8f65-4028-8ee8-96693a585c6e",
   "metadata": {},
   "outputs": [],
   "source": [
    "for i in range(1,9):\n",
    "    ranges[i] = 100\n",
    "\n",
    "batches = [torch.rand(i, 3, 224, 224) for i in range(1,9)]\n",
    "for i in range(len(batches)):\n",
    "    batches[i] = batches[i].cuda()\n",
    "results = benchmark_modes()"
   ]
  },
  {
   "cell_type": "markdown",
   "id": "4ed67998-5838-484d-935f-2b7a13fec71d",
   "metadata": {},
   "source": [
    "Next, we'll plot a chart of `batch_size` x `time (ms)`, looking at the distribution based on each kind:"
   ]
  },
  {
   "cell_type": "code",
   "execution_count": 328,
   "id": "1eb548ba-ac03-40e3-a0b0-59abe4d48758",
   "metadata": {},
   "outputs": [
    {
     "data": {
      "image/png": "[encoded data removed]",
      "text/plain": [
       "<Figure size 432x288 with 1 Axes>"
      ]
     },
     "metadata": {
      "needs_background": "light"
     },
     "output_type": "display_data"
    }
   ],
   "source": [
    "import numpy as np\n",
    "import pandas as pd\n",
    "import matplotlib.pyplot as plt\n",
    "df = pd.DataFrame(results)\n",
    "df.columns = 'mode', 'Batch Size', 'model_type', 'Time (ms)', 'memory_used'\n",
    "fig, ax = plt.subplots()\n",
    "i = 0\n",
    "colors = \"b\",\"g\",'r','c','m','y'\n",
    "for (key, grp) in df.groupby(['mode']):\n",
    "    for (key2, grp2) in grp.groupby([\"model_type\"]):\n",
    "        ax = grp2.plot(ax=ax, kind='scatter', x='Batch Size', y='Time (ms)', label=f'{key2}, {key}', c=colors[i])\n",
    "        i += 1\n",
    "\n",
    "plt.legend(loc='best')\n",
    "plt.show()"
   ]
  },
  {
   "cell_type": "markdown",
   "id": "db8f05f0-4df4-42ac-ae7c-92797a38e2cf",
   "metadata": {},
   "source": [
    "We see that for a single item and two, it's **extremely** important to use the right context manager, but as we increase our batch size it matters less and less until we hit 8.\n",
    "\n",
    "For morbid curiosity, I decided to check how 8 to 16 might look, and here's those results:"
   ]
  },
  {
   "cell_type": "code",
   "execution_count": 331,
   "id": "334a1e34-c109-443d-8edc-361d42f453a1",
   "metadata": {},
   "outputs": [],
   "source": [
    "for i in range(8,16):\n",
    "    ranges[i] = 100\n",
    "\n",
    "batches = [torch.rand(i, 3, 224, 224) for i in range(8,16)]\n",
    "for i in range(len(batches)):\n",
    "    batches[i] = batches[i].cuda()\n",
    "results = benchmark_modes()"
   ]
  },
  {
   "cell_type": "code",
   "execution_count": 333,
   "id": "0cfb532a-9e4e-48b9-ac73-5c499d07ed03",
   "metadata": {},
   "outputs": [
    {
     "data": {
      "image/png": "[encoded data removed]",
      "text/plain": [
       "<Figure size 432x288 with 1 Axes>"
      ]
     },
     "metadata": {
      "needs_background": "light"
     },
     "output_type": "display_data"
    }
   ],
   "source": [
    "import numpy as np\n",
    "import pandas as pd\n",
    "import matplotlib.pyplot as plt\n",
    "df = pd.DataFrame(results)\n",
    "df.columns = 'mode', 'Batch Size', 'model_type', 'Time (ms)', 'memory_used'\n",
    "fig, ax = plt.subplots()\n",
    "i = 0\n",
    "colors = \"b\",\"g\",'r','c','m','y'\n",
    "for (key, grp) in df.groupby(['mode']):\n",
    "    for (key2, grp2) in grp.groupby([\"model_type\"]):\n",
    "        ax = grp2.plot(ax=ax, kind='scatter', x='Batch Size', y='Time (ms)', label=f'{key2}, {key}', c=colors[i])\n",
    "        i += 1\n",
    "\n",
    "plt.legend(loc='best')\n",
    "plt.show()"
   ]
  },
  {
   "cell_type": "markdown",
   "id": "a5c378fa-3a0b-4084-b830-7ba0442b4ee5",
   "metadata": {},
   "source": [
    "We find yet again that the distribution between the different modes is ~ <.1 milliseconds."
   ]
  },
  {
   "cell_type": "markdown",
   "id": "02c4e337-0439-4263-9994-f2e7adf0dcb2",
   "metadata": {},
   "source": [
    "## Finally, what about CPU?\n",
    "\n",
    "Here's our experiment again, performed on a CPU:"
   ]
  },
  {
   "cell_type": "code",
   "execution_count": null,
   "id": "e49f331a-46c6-48a3-8b1e-81ba832536a8",
   "metadata": {},
   "outputs": [],
   "source": [
    "#hide\n",
    "for i in range(1,8):\n",
    "    ranges[i] = 10\n",
    "\n",
    "batches = [torch.rand(i, 3, 224, 224) for i in range(1,8)]\n",
    "for i in range(len(batches)):\n",
    "    batches[i] = batches[i].cpu()\n",
    "for model in models.values():\n",
    "    model.cpu()\n",
    "results = benchmark_modes()"
   ]
  },
  {
   "cell_type": "code",
   "execution_count": 337,
   "id": "2089bf49-f882-4638-88fa-10c4c5e433ad",
   "metadata": {},
   "outputs": [
    {
     "data": {
      "image/png": "[encoded data removed]",
      "text/plain": [
       "<Figure size 432x288 with 1 Axes>"
      ]
     },
     "metadata": {
      "needs_background": "light"
     },
     "output_type": "display_data"
    }
   ],
   "source": [
    "#hide_input\n",
    "import numpy as np\n",
    "import pandas as pd\n",
    "import matplotlib.pyplot as plt\n",
    "df = pd.DataFrame(results)\n",
    "df.columns = 'mode', 'Batch Size', 'model_type', 'Time (ms)', 'memory_used'\n",
    "fig, ax = plt.subplots()\n",
    "i = 0\n",
    "colors = \"b\",\"g\",'r','c','m','y'\n",
    "for (key, grp) in df.groupby(['mode']):\n",
    "    for (key2, grp2) in grp.groupby([\"model_type\"]):\n",
    "        ax = grp2.plot(ax=ax, kind='scatter', x='Batch Size', y='Time (ms)', label=f'{key2}, {key}', c=colors[i])\n",
    "        i += 1\n",
    "\n",
    "plt.legend(loc='best')\n",
    "plt.show()"
   ]
  },
  {
   "cell_type": "markdown",
   "id": "2319c054-8cb0-4f38-b00d-940cc42da01e",
   "metadata": {},
   "source": [
    "We see a different story on CPU, where the difference of running `no_grad` or `inference_mode` matters *much* more, (which we'd expect), and `inference_mode` on occasion being slightly faster than `no_grad`. "
   ]
  },
  {
   "cell_type": "markdown",
   "id": "f9824579-0084-4e2a-a3e8-9ed05b09a06a",
   "metadata": {},
   "source": [
    "## What to take away from this?\n",
    "\n",
    "The takeaway from this experiment is that unless you're dealing with smaller batch sizes (such as single image inference), the context manager you use and whether to use a scripted model *could* be negligible when it comes to the gains in performance on a GPU. The cost of evaluating the model exceeded the performance gain of not tracking the operations as the batch size increases.\n",
    "\n",
    "I'd think this also could matter more once a bigger model is involved, as there's even more calculations and the time sink would increase. "
   ]
  }
 ],
 "metadata": {
  "kernelspec": {
   "display_name": "Python 3 (ipykernel)",
   "language": "python",
   "name": "python3"
  },
  "language_info": {
   "codemirror_mode": {
    "name": "ipython",
    "version": 3
   },
   "file_extension": ".py",
   "mimetype": "text/x-python",
   "name": "python",
   "nbconvert_exporter": "python",
   "pygments_lexer": "ipython3",
   "version": "3.9.7"
  }
 },
 "nbformat": 4,
 "nbformat_minor": 5
}
